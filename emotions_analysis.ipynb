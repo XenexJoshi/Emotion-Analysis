{
 "cells": [
  {
   "cell_type": "markdown",
   "metadata": {},
   "source": [
    "<h3>Introduction:</h3>\n",
    "\n",
    "<p> The creative project is about conducting a real-world machine learning project on your own, with everything that is involved. Unlike in the programming projects 1-5, where we gave you all the scaffolding and you just filled in the blanks, you now start from scratch. The past programming projects provide templates for how to do this (and you can reuse part of your code if you wish), and the lectures provide some of the methods you can use. So, this creative project brings realism to how you will use machine learning in the real world.  </p>\n",
    "\n",
    "The task you will work on is classifying texts to human emotions. Through words, humans express feelings, articulate thoughts, and communicate our deepest needs and desires. Language helps us interpret the nuances of joy, sadness, anger, and love, allowing us to connect with others on a deeper level. Are you able to train an ML model that recognizes the human emotions expressed in a piece of text? <b>Please read the project description PDF file carefully and follow the instructions there. Also make sure you write your code and answers to all the questions in this Jupyter Notebook </b> </p>\n",
    "<p>\n"
   ]
  },
  {
   "cell_type": "markdown",
   "metadata": {},
   "source": [
    "<h2>Part 0: Basics</h2><p>"
   ]
  },
  {
   "cell_type": "markdown",
   "metadata": {},
   "source": [
    "<h3>0.1 Import:</h3><p>\n",
    "Please import necessary packages to use. Note that learning and using packages are recommended but not required for this project. Some official tutorial for suggested packacges includes:\n",
    "    \n",
    "https://scikit-learn.org/stable/tutorial/basic/tutorial.html\n",
    "    \n",
    "https://pytorch.org/tutorials/\n",
    "    \n",
    "https://pandas.pydata.org/pandas-docs/stable/user_guide/10min.html\n",
    "<p>"
   ]
  },
  {
   "cell_type": "code",
   "execution_count": 1,
   "metadata": {},
   "outputs": [],
   "source": [
    "import os\n",
    "import pandas as pd\n",
    "import numpy as np\n",
    "import torch"
   ]
  },
  {
   "cell_type": "markdown",
   "metadata": {},
   "source": [
    "<h3>0.2 Accuracy and Mean Squared Error:</h3><p>\n",
    "To measure your performance in the Kaggle Competition, we are using accuracy. As a recap, accuracy is the percent of labels you predict correctly. To measure this, you can use library functions from sklearn. A simple example is shown below. \n",
    "<p>"
   ]
  },
  {
   "cell_type": "code",
   "execution_count": 3,
   "metadata": {},
   "outputs": [
    {
     "data": {
      "text/plain": [
       "0.42857142857142855"
      ]
     },
     "execution_count": 3,
     "metadata": {},
     "output_type": "execute_result"
    }
   ],
   "source": [
    "from sklearn.metrics import accuracy_score\n",
    "y_pred = [3, 2, 1, 0, 1, 2, 3]\n",
    "y_true = [0, 1, 2, 3, 1, 2, 3]\n",
    "accuracy_score(y_true, y_pred)"
   ]
  },
  {
   "cell_type": "markdown",
   "metadata": {},
   "source": [
    "<h2>Part 1: Basic</h2><p>\n",
    "Note that your code should be commented well and in part 1.4 you can refer to your comments."
   ]
  },
  {
   "cell_type": "markdown",
   "metadata": {},
   "source": [
    "<h3>1.1 Load and preprocess the dataset:</h3><p>\n",
    "We provide how to load the data on Kaggle's Notebook.\n",
    "<p>"
   ]
  },
  {
   "cell_type": "code",
   "execution_count": 4,
   "metadata": {},
   "outputs": [],
   "source": [
    "# Loading training data\n",
    "train = pd.read_csv(\"train.csv\")\n",
    "train_text = train[\"text\"]\n",
    "train_label = train[\"label\"]\n",
    "\n",
    "# Loading testing data\n",
    "test = pd.read_csv(\"test.csv\")\n",
    "test_id = test[\"id\"]\n",
    "test_text = test[\"text\"]"
   ]
  },
  {
   "cell_type": "code",
   "execution_count": 5,
   "metadata": {},
   "outputs": [],
   "source": [
    "from sklearn.feature_extraction.text import CountVectorizer\n",
    "from sklearn.model_selection import train_test_split\n",
    "\n",
    "# Splitting data into training set and testing set\n",
    "X_train, X_test, y_train, y_test = train_test_split(train_text, train_label, test_size = 0.30, random_state = 42)\n",
    "\n",
    "# Generating a bag-of-words from the training set\n",
    "vectorizer = CountVectorizer(stop_words = \"english\", lowercase = True)\n",
    "vector_X = vectorizer.fit_transform(X_train)\n",
    "\n",
    "# Generating bag-of-words for the testing set ans test_text\n",
    "test_vector_X = vectorizer.transform(X_test)\n",
    "test_data = vectorizer.transform(test_text)"
   ]
  },
  {
   "cell_type": "markdown",
   "metadata": {},
   "source": [
    "<h3>1.2 Use At Least Two Training Algorithms from class:</h3><p>\n",
    "You need to use at least two training algorithms from class. You can use your code from previous projects or any packages you imported in part 0.1."
   ]
  },
  {
   "cell_type": "code",
   "execution_count": 6,
   "metadata": {},
   "outputs": [
    {
     "name": "stdout",
     "output_type": "stream",
     "text": [
      "Naive-Bayes model accuracy: 0.543\n",
      "Linear SVM model accuracy: 0.7083333333333334\n"
     ]
    }
   ],
   "source": [
    "from sklearn.naive_bayes import MultinomialNB\n",
    "from sklearn.svm import SVC\n",
    "\n",
    "# Implementing a Naive-Bayes algorithm to fit the dataset\n",
    "naive_bayes_model = MultinomialNB()\n",
    "naive_bayes_model.fit(vector_X, y_train)\n",
    "\n",
    "# Evaluating the Naive-Bayes model accuracy against the testing set\n",
    "y_pred = naive_bayes_model.predict(test_vector_X)\n",
    "accuracy = accuracy_score(y_test, y_pred)\n",
    "print(\"Naive-Bayes model accuracy: \" + str(accuracy))\n",
    "\n",
    "# Implementing a linear SVM algorithm to fit the dataset\n",
    "svm_model = SVC(kernel = 'linear')\n",
    "svm_model.fit(vector_X, y_train)\n",
    "\n",
    "# Evaluating the linear SVM model accuracy against the testing set\n",
    "y_pred = svm_model.predict(test_vector_X)\n",
    "accuracy = accuracy_score(y_test, y_pred)\n",
    "print(\"Linear SVM model accuracy: \" + str(accuracy))"
   ]
  },
  {
   "cell_type": "markdown",
   "metadata": {},
   "source": [
    "<h3>1.3 Training, Validation and Model Selection:</h3><p>\n",
    "You need to split your data to a training set and validation set or performing a cross-validation for model selection."
   ]
  },
  {
   "cell_type": "code",
   "execution_count": 9,
   "metadata": {},
   "outputs": [
    {
     "name": "stdout",
     "output_type": "stream",
     "text": [
      "Fitting 3 folds for each of 60 candidates, totalling 180 fits\n"
     ]
    },
    {
     "name": "stderr",
     "output_type": "stream",
     "text": [
      "/Applications/anaconda3/lib/python3.9/site-packages/sklearn/model_selection/_split.py:676: UserWarning: The least populated class in y has only 2 members, which is less than n_splits=3.\n",
      "  warnings.warn(\n"
     ]
    },
    {
     "name": "stdout",
     "output_type": "stream",
     "text": [
      "[CV] END ......................C=0.4, gamma=1, kernel=linear; total time=   4.5s\n",
      "[CV] END ......................C=0.4, gamma=1, kernel=linear; total time=   4.5s\n",
      "[CV] END ......................C=0.4, gamma=1, kernel=linear; total time=   4.2s\n",
      "[CV] END .........................C=0.4, gamma=1, kernel=rbf; total time=  10.5s\n",
      "[CV] END .........................C=0.4, gamma=1, kernel=rbf; total time=  10.4s\n",
      "[CV] END .........................C=0.4, gamma=1, kernel=rbf; total time=  10.4s\n",
      "[CV] END .....................C=0.4, gamma=1, kernel=sigmoid; total time=   2.8s\n",
      "[CV] END .....................C=0.4, gamma=1, kernel=sigmoid; total time=   2.8s\n",
      "[CV] END .....................C=0.4, gamma=1, kernel=sigmoid; total time=   2.9s\n",
      "[CV] END ....................C=0.4, gamma=0.1, kernel=linear; total time=   4.5s\n",
      "[CV] END ....................C=0.4, gamma=0.1, kernel=linear; total time=   4.3s\n",
      "[CV] END ....................C=0.4, gamma=0.1, kernel=linear; total time=   4.2s\n",
      "[CV] END .......................C=0.4, gamma=0.1, kernel=rbf; total time=   6.1s\n",
      "[CV] END .......................C=0.4, gamma=0.1, kernel=rbf; total time=   6.1s\n",
      "[CV] END .......................C=0.4, gamma=0.1, kernel=rbf; total time=   6.3s\n",
      "[CV] END ...................C=0.4, gamma=0.1, kernel=sigmoid; total time=   4.0s\n",
      "[CV] END ...................C=0.4, gamma=0.1, kernel=sigmoid; total time=   4.1s\n",
      "[CV] END ...................C=0.4, gamma=0.1, kernel=sigmoid; total time=   4.0s\n",
      "[CV] END ...................C=0.4, gamma=0.01, kernel=linear; total time=   4.5s\n",
      "[CV] END ...................C=0.4, gamma=0.01, kernel=linear; total time=   4.2s\n",
      "[CV] END ...................C=0.4, gamma=0.01, kernel=linear; total time=   4.2s\n",
      "[CV] END ......................C=0.4, gamma=0.01, kernel=rbf; total time=   4.9s\n",
      "[CV] END ......................C=0.4, gamma=0.01, kernel=rbf; total time=   4.8s\n",
      "[CV] END ......................C=0.4, gamma=0.01, kernel=rbf; total time=   4.8s\n",
      "[CV] END ..................C=0.4, gamma=0.01, kernel=sigmoid; total time=   4.3s\n",
      "[CV] END ..................C=0.4, gamma=0.01, kernel=sigmoid; total time=   4.3s\n",
      "[CV] END ..................C=0.4, gamma=0.01, kernel=sigmoid; total time=   4.2s\n",
      "[CV] END ..................C=0.4, gamma=0.001, kernel=linear; total time=   4.5s\n",
      "[CV] END ..................C=0.4, gamma=0.001, kernel=linear; total time=   4.4s\n",
      "[CV] END ..................C=0.4, gamma=0.001, kernel=linear; total time=   4.6s\n",
      "[CV] END .....................C=0.4, gamma=0.001, kernel=rbf; total time=   4.6s\n",
      "[CV] END .....................C=0.4, gamma=0.001, kernel=rbf; total time=   4.2s\n",
      "[CV] END .....................C=0.4, gamma=0.001, kernel=rbf; total time=   4.2s\n",
      "[CV] END .................C=0.4, gamma=0.001, kernel=sigmoid; total time=   3.9s\n",
      "[CV] END .................C=0.4, gamma=0.001, kernel=sigmoid; total time=   3.8s\n",
      "[CV] END .................C=0.4, gamma=0.001, kernel=sigmoid; total time=   3.7s\n",
      "[CV] END ......................C=0.5, gamma=1, kernel=linear; total time=   4.4s\n",
      "[CV] END ......................C=0.5, gamma=1, kernel=linear; total time=   4.3s\n",
      "[CV] END ......................C=0.5, gamma=1, kernel=linear; total time=   4.5s\n",
      "[CV] END .........................C=0.5, gamma=1, kernel=rbf; total time=  10.5s\n",
      "[CV] END .........................C=0.5, gamma=1, kernel=rbf; total time=  10.6s\n",
      "[CV] END .........................C=0.5, gamma=1, kernel=rbf; total time=  10.7s\n",
      "[CV] END .....................C=0.5, gamma=1, kernel=sigmoid; total time=   2.7s\n",
      "[CV] END .....................C=0.5, gamma=1, kernel=sigmoid; total time=   2.7s\n",
      "[CV] END .....................C=0.5, gamma=1, kernel=sigmoid; total time=   2.8s\n",
      "[CV] END ....................C=0.5, gamma=0.1, kernel=linear; total time=   4.3s\n",
      "[CV] END ....................C=0.5, gamma=0.1, kernel=linear; total time=   4.3s\n",
      "[CV] END ....................C=0.5, gamma=0.1, kernel=linear; total time=   4.4s\n",
      "[CV] END .......................C=0.5, gamma=0.1, kernel=rbf; total time=   6.1s\n",
      "[CV] END .......................C=0.5, gamma=0.1, kernel=rbf; total time=   6.0s\n",
      "[CV] END .......................C=0.5, gamma=0.1, kernel=rbf; total time=   5.9s\n",
      "[CV] END ...................C=0.5, gamma=0.1, kernel=sigmoid; total time=   4.0s\n",
      "[CV] END ...................C=0.5, gamma=0.1, kernel=sigmoid; total time=   4.0s\n",
      "[CV] END ...................C=0.5, gamma=0.1, kernel=sigmoid; total time=   3.9s\n",
      "[CV] END ...................C=0.5, gamma=0.01, kernel=linear; total time=   4.4s\n",
      "[CV] END ...................C=0.5, gamma=0.01, kernel=linear; total time=   4.3s\n",
      "[CV] END ...................C=0.5, gamma=0.01, kernel=linear; total time=   4.4s\n",
      "[CV] END ......................C=0.5, gamma=0.01, kernel=rbf; total time=   4.8s\n",
      "[CV] END ......................C=0.5, gamma=0.01, kernel=rbf; total time=   4.8s\n",
      "[CV] END ......................C=0.5, gamma=0.01, kernel=rbf; total time=   4.7s\n",
      "[CV] END ..................C=0.5, gamma=0.01, kernel=sigmoid; total time=   4.3s\n",
      "[CV] END ..................C=0.5, gamma=0.01, kernel=sigmoid; total time=   4.3s\n",
      "[CV] END ..................C=0.5, gamma=0.01, kernel=sigmoid; total time=   4.2s\n",
      "[CV] END ..................C=0.5, gamma=0.001, kernel=linear; total time=   4.4s\n",
      "[CV] END ..................C=0.5, gamma=0.001, kernel=linear; total time=   4.2s\n",
      "[CV] END ..................C=0.5, gamma=0.001, kernel=linear; total time=   4.4s\n",
      "[CV] END .....................C=0.5, gamma=0.001, kernel=rbf; total time=   4.3s\n",
      "[CV] END .....................C=0.5, gamma=0.001, kernel=rbf; total time=   4.3s\n",
      "[CV] END .....................C=0.5, gamma=0.001, kernel=rbf; total time=   4.3s\n",
      "[CV] END .................C=0.5, gamma=0.001, kernel=sigmoid; total time=   3.8s\n",
      "[CV] END .................C=0.5, gamma=0.001, kernel=sigmoid; total time=   3.8s\n",
      "[CV] END .................C=0.5, gamma=0.001, kernel=sigmoid; total time=   3.8s\n",
      "[CV] END ......................C=0.6, gamma=1, kernel=linear; total time=   4.6s\n",
      "[CV] END ......................C=0.6, gamma=1, kernel=linear; total time=   4.4s\n",
      "[CV] END ......................C=0.6, gamma=1, kernel=linear; total time=   4.3s\n",
      "[CV] END .........................C=0.6, gamma=1, kernel=rbf; total time=  10.5s\n",
      "[CV] END .........................C=0.6, gamma=1, kernel=rbf; total time=  10.5s\n",
      "[CV] END .........................C=0.6, gamma=1, kernel=rbf; total time=  10.6s\n",
      "[CV] END .....................C=0.6, gamma=1, kernel=sigmoid; total time=   2.6s\n",
      "[CV] END .....................C=0.6, gamma=1, kernel=sigmoid; total time=   3.0s\n",
      "[CV] END .....................C=0.6, gamma=1, kernel=sigmoid; total time=   2.8s\n",
      "[CV] END ....................C=0.6, gamma=0.1, kernel=linear; total time=   4.3s\n",
      "[CV] END ....................C=0.6, gamma=0.1, kernel=linear; total time=   4.4s\n",
      "[CV] END ....................C=0.6, gamma=0.1, kernel=linear; total time=   4.4s\n",
      "[CV] END .......................C=0.6, gamma=0.1, kernel=rbf; total time=   6.0s\n",
      "[CV] END .......................C=0.6, gamma=0.1, kernel=rbf; total time=   6.0s\n",
      "[CV] END .......................C=0.6, gamma=0.1, kernel=rbf; total time=   6.0s\n",
      "[CV] END ...................C=0.6, gamma=0.1, kernel=sigmoid; total time=   4.0s\n",
      "[CV] END ...................C=0.6, gamma=0.1, kernel=sigmoid; total time=   4.0s\n",
      "[CV] END ...................C=0.6, gamma=0.1, kernel=sigmoid; total time=   3.9s\n",
      "[CV] END ...................C=0.6, gamma=0.01, kernel=linear; total time=   4.3s\n",
      "[CV] END ...................C=0.6, gamma=0.01, kernel=linear; total time=   4.7s\n",
      "[CV] END ...................C=0.6, gamma=0.01, kernel=linear; total time=   4.4s\n",
      "[CV] END ......................C=0.6, gamma=0.01, kernel=rbf; total time=   4.8s\n",
      "[CV] END ......................C=0.6, gamma=0.01, kernel=rbf; total time=   4.8s\n",
      "[CV] END ......................C=0.6, gamma=0.01, kernel=rbf; total time=   4.8s\n",
      "[CV] END ..................C=0.6, gamma=0.01, kernel=sigmoid; total time=   4.4s\n",
      "[CV] END ..................C=0.6, gamma=0.01, kernel=sigmoid; total time=   4.3s\n",
      "[CV] END ..................C=0.6, gamma=0.01, kernel=sigmoid; total time=   4.6s\n",
      "[CV] END ..................C=0.6, gamma=0.001, kernel=linear; total time=   4.4s\n",
      "[CV] END ..................C=0.6, gamma=0.001, kernel=linear; total time=   4.4s\n",
      "[CV] END ..................C=0.6, gamma=0.001, kernel=linear; total time=   4.4s\n",
      "[CV] END .....................C=0.6, gamma=0.001, kernel=rbf; total time=   4.4s\n",
      "[CV] END .....................C=0.6, gamma=0.001, kernel=rbf; total time=   4.4s\n",
      "[CV] END .....................C=0.6, gamma=0.001, kernel=rbf; total time=   4.3s\n",
      "[CV] END .................C=0.6, gamma=0.001, kernel=sigmoid; total time=   3.9s\n",
      "[CV] END .................C=0.6, gamma=0.001, kernel=sigmoid; total time=   3.9s\n",
      "[CV] END .................C=0.6, gamma=0.001, kernel=sigmoid; total time=   3.9s\n",
      "[CV] END .....................C=0.75, gamma=1, kernel=linear; total time=   4.4s\n",
      "[CV] END .....................C=0.75, gamma=1, kernel=linear; total time=   4.3s\n",
      "[CV] END .....................C=0.75, gamma=1, kernel=linear; total time=   4.2s\n",
      "[CV] END ........................C=0.75, gamma=1, kernel=rbf; total time=  10.8s\n",
      "[CV] END ........................C=0.75, gamma=1, kernel=rbf; total time=  10.6s\n",
      "[CV] END ........................C=0.75, gamma=1, kernel=rbf; total time=  10.5s\n",
      "[CV] END ....................C=0.75, gamma=1, kernel=sigmoid; total time=   2.5s\n",
      "[CV] END ....................C=0.75, gamma=1, kernel=sigmoid; total time=   2.6s\n",
      "[CV] END ....................C=0.75, gamma=1, kernel=sigmoid; total time=   2.7s\n",
      "[CV] END ...................C=0.75, gamma=0.1, kernel=linear; total time=   4.4s\n",
      "[CV] END ...................C=0.75, gamma=0.1, kernel=linear; total time=   4.3s\n",
      "[CV] END ...................C=0.75, gamma=0.1, kernel=linear; total time=   4.2s\n",
      "[CV] END ......................C=0.75, gamma=0.1, kernel=rbf; total time=   6.1s\n",
      "[CV] END ......................C=0.75, gamma=0.1, kernel=rbf; total time=   6.1s\n",
      "[CV] END ......................C=0.75, gamma=0.1, kernel=rbf; total time=   6.1s\n",
      "[CV] END ..................C=0.75, gamma=0.1, kernel=sigmoid; total time=   3.9s\n",
      "[CV] END ..................C=0.75, gamma=0.1, kernel=sigmoid; total time=   3.9s\n",
      "[CV] END ..................C=0.75, gamma=0.1, kernel=sigmoid; total time=   4.2s\n",
      "[CV] END ..................C=0.75, gamma=0.01, kernel=linear; total time=   4.5s\n",
      "[CV] END ..................C=0.75, gamma=0.01, kernel=linear; total time=   4.3s\n",
      "[CV] END ..................C=0.75, gamma=0.01, kernel=linear; total time=   4.3s\n",
      "[CV] END .....................C=0.75, gamma=0.01, kernel=rbf; total time=   4.8s\n",
      "[CV] END .....................C=0.75, gamma=0.01, kernel=rbf; total time=   4.9s\n",
      "[CV] END .....................C=0.75, gamma=0.01, kernel=rbf; total time=   4.8s\n",
      "[CV] END .................C=0.75, gamma=0.01, kernel=sigmoid; total time=   4.4s\n",
      "[CV] END .................C=0.75, gamma=0.01, kernel=sigmoid; total time=   4.3s\n",
      "[CV] END .................C=0.75, gamma=0.01, kernel=sigmoid; total time=   4.3s\n",
      "[CV] END .................C=0.75, gamma=0.001, kernel=linear; total time=   4.4s\n",
      "[CV] END .................C=0.75, gamma=0.001, kernel=linear; total time=   4.3s\n",
      "[CV] END .................C=0.75, gamma=0.001, kernel=linear; total time=   4.2s\n",
      "[CV] END ....................C=0.75, gamma=0.001, kernel=rbf; total time=   4.4s\n",
      "[CV] END ....................C=0.75, gamma=0.001, kernel=rbf; total time=   4.7s\n",
      "[CV] END ....................C=0.75, gamma=0.001, kernel=rbf; total time=   4.4s\n",
      "[CV] END ................C=0.75, gamma=0.001, kernel=sigmoid; total time=   4.0s\n",
      "[CV] END ................C=0.75, gamma=0.001, kernel=sigmoid; total time=   4.0s\n",
      "[CV] END ................C=0.75, gamma=0.001, kernel=sigmoid; total time=   3.9s\n",
      "[CV] END ........................C=1, gamma=1, kernel=linear; total time=   4.4s\n",
      "[CV] END ........................C=1, gamma=1, kernel=linear; total time=   4.2s\n",
      "[CV] END ........................C=1, gamma=1, kernel=linear; total time=   4.3s\n",
      "[CV] END ...........................C=1, gamma=1, kernel=rbf; total time=  10.6s\n",
      "[CV] END ...........................C=1, gamma=1, kernel=rbf; total time=  10.6s\n",
      "[CV] END ...........................C=1, gamma=1, kernel=rbf; total time=  10.7s\n",
      "[CV] END .......................C=1, gamma=1, kernel=sigmoid; total time=   2.5s\n",
      "[CV] END .......................C=1, gamma=1, kernel=sigmoid; total time=   2.7s\n",
      "[CV] END .......................C=1, gamma=1, kernel=sigmoid; total time=   3.1s\n",
      "[CV] END ......................C=1, gamma=0.1, kernel=linear; total time=   4.4s\n",
      "[CV] END ......................C=1, gamma=0.1, kernel=linear; total time=   4.3s\n",
      "[CV] END ......................C=1, gamma=0.1, kernel=linear; total time=   4.3s\n",
      "[CV] END .........................C=1, gamma=0.1, kernel=rbf; total time=   6.2s\n",
      "[CV] END .........................C=1, gamma=0.1, kernel=rbf; total time=   6.2s\n",
      "[CV] END .........................C=1, gamma=0.1, kernel=rbf; total time=   6.1s\n",
      "[CV] END .....................C=1, gamma=0.1, kernel=sigmoid; total time=   3.9s\n",
      "[CV] END .....................C=1, gamma=0.1, kernel=sigmoid; total time=   3.9s\n",
      "[CV] END .....................C=1, gamma=0.1, kernel=sigmoid; total time=   3.8s\n",
      "[CV] END .....................C=1, gamma=0.01, kernel=linear; total time=   4.4s\n",
      "[CV] END .....................C=1, gamma=0.01, kernel=linear; total time=   4.2s\n",
      "[CV] END .....................C=1, gamma=0.01, kernel=linear; total time=   4.2s\n",
      "[CV] END ........................C=1, gamma=0.01, kernel=rbf; total time=   4.8s\n",
      "[CV] END ........................C=1, gamma=0.01, kernel=rbf; total time=   5.1s\n",
      "[CV] END ........................C=1, gamma=0.01, kernel=rbf; total time=   4.8s\n",
      "[CV] END ....................C=1, gamma=0.01, kernel=sigmoid; total time=   4.3s\n",
      "[CV] END ....................C=1, gamma=0.01, kernel=sigmoid; total time=   4.3s\n",
      "[CV] END ....................C=1, gamma=0.01, kernel=sigmoid; total time=   4.3s\n",
      "[CV] END ....................C=1, gamma=0.001, kernel=linear; total time=   4.4s\n",
      "[CV] END ....................C=1, gamma=0.001, kernel=linear; total time=   4.2s\n",
      "[CV] END ....................C=1, gamma=0.001, kernel=linear; total time=   4.3s\n",
      "[CV] END .......................C=1, gamma=0.001, kernel=rbf; total time=   4.5s\n",
      "[CV] END .......................C=1, gamma=0.001, kernel=rbf; total time=   4.5s\n",
      "[CV] END .......................C=1, gamma=0.001, kernel=rbf; total time=   4.5s\n",
      "[CV] END ...................C=1, gamma=0.001, kernel=sigmoid; total time=   4.0s\n",
      "[CV] END ...................C=1, gamma=0.001, kernel=sigmoid; total time=   4.0s\n",
      "[CV] END ...................C=1, gamma=0.001, kernel=sigmoid; total time=   4.0s\n",
      "GridSearch SVM model accuracy: 0.715\n"
     ]
    }
   ],
   "source": [
    "from sklearn.model_selection import GridSearchCV\n",
    "\n",
    "# Performinng GridSearch (3-fold Cross Validation) to choose optimal hyperparameters and kernel\n",
    "parameters= {\n",
    "    'C': [0.4, 0.5, 0.6, 0.75, 1],               \n",
    "    'kernel': ['linear', 'rbf', 'sigmoid'],   \n",
    "    'gamma': [1, 0.1, 0.01, 0.001],   \n",
    "}\n",
    "\n",
    "svm_model = GridSearchCV(\n",
    "    estimator = SVC(),\n",
    "    param_grid = parameters,\n",
    "    cv = 3,                   \n",
    "    verbose = 2         \n",
    ")\n",
    "\n",
    "# Implementing SVM algorithm with optimal parameters through GridSearch to fit the dataset\n",
    "svm_model.fit(vector_X, y_train)\n",
    "\n",
    "# Evaluating the GridSearch SVM model accuracy against the testing set\n",
    "y_pred = svm_model.predict(test_vector_X)\n",
    "accuracy = accuracy_score(y_test, y_pred)\n",
    "print(\"GridSearch SVM model accuracy: \" + str(accuracy))"
   ]
  },
  {
   "cell_type": "markdown",
   "metadata": {},
   "source": [
    "<h2>Part 2: Be creative!</h2><p>"
   ]
  },
  {
   "cell_type": "markdown",
   "metadata": {},
   "source": [
    "<h3>2.1 Open-ended Code:</h3><p>\n",
    "You may follow the steps in part 1 again but making innovative changes like using new training algorithms, etc. Make sure you explain everything clearly in part 2.2. Note that beating \"Zero Hero\" is only a small portion of this part. Any creative ideas will receive most points as long as they are reasonable and clearly explained."
   ]
  },
  {
   "cell_type": "code",
   "execution_count": 11,
   "metadata": {},
   "outputs": [
    {
     "name": "stderr",
     "output_type": "stream",
     "text": [
      "ERROR: Could not find a version that satisfies the requirement transformer[torch] (from versions: none)\n",
      "ERROR: No matching distribution found for transformer[torch]\n"
     ]
    },
    {
     "name": "stdout",
     "output_type": "stream",
     "text": [
      "Requirement already satisfied: accelerate in c:\\users\\nzhan\\appdata\\local\\programs\\python\\python311\\lib\\site-packages (1.1.1)\n",
      "Note: you may need to restart the kernel to use updated packages.\n"
     ]
    },
    {
     "name": "stderr",
     "output_type": "stream",
     "text": [
      "c:\\Users\\nzhan\\AppData\\Local\\Programs\\Python\\Python311\\Lib\\site-packages\\tqdm\\auto.py:21: TqdmWarning: IProgress not found. Please update jupyter and ipywidgets. See https://ipywidgets.readthedocs.io/en/stable/user_install.html\n",
      "  from .autonotebook import tqdm as notebook_tqdm\n",
      "Some weights of BertForSequenceClassification were not initialized from the model checkpoint at bert-base-uncased and are newly initialized: ['classifier.bias', 'classifier.weight']\n",
      "You should probably TRAIN this model on a down-stream task to be able to use it for predictions and inference.\n",
      "  0%|          | 10/2190 [00:25<1:31:12,  2.51s/it]"
     ]
    },
    {
     "name": "stdout",
     "output_type": "stream",
     "text": [
      "{'loss': 3.3445, 'grad_norm': 6.634163856506348, 'learning_rate': 1.0000000000000002e-06, 'epoch': 0.02}\n"
     ]
    },
    {
     "name": "stderr",
     "output_type": "stream",
     "text": [
      "  1%|          | 20/2190 [00:54<1:48:32,  3.00s/it]"
     ]
    },
    {
     "name": "stdout",
     "output_type": "stream",
     "text": [
      "{'loss': 3.3389, 'grad_norm': 8.281437873840332, 'learning_rate': 2.0000000000000003e-06, 'epoch': 0.05}\n"
     ]
    },
    {
     "name": "stderr",
     "output_type": "stream",
     "text": [
      "  1%|▏         | 30/2190 [01:22<1:33:58,  2.61s/it]"
     ]
    },
    {
     "name": "stdout",
     "output_type": "stream",
     "text": [
      "{'loss': 3.3015, 'grad_norm': 6.608188629150391, 'learning_rate': 3e-06, 'epoch': 0.07}\n"
     ]
    },
    {
     "name": "stderr",
     "output_type": "stream",
     "text": [
      "  2%|▏         | 40/2190 [01:50<1:36:31,  2.69s/it]"
     ]
    },
    {
     "name": "stdout",
     "output_type": "stream",
     "text": [
      "{'loss': 3.2654, 'grad_norm': 6.758865833282471, 'learning_rate': 4.000000000000001e-06, 'epoch': 0.09}\n"
     ]
    },
    {
     "name": "stderr",
     "output_type": "stream",
     "text": [
      "  2%|▏         | 50/2190 [02:19<1:38:59,  2.78s/it]"
     ]
    },
    {
     "name": "stdout",
     "output_type": "stream",
     "text": [
      "{'loss': 3.2017, 'grad_norm': 9.593744277954102, 'learning_rate': 5e-06, 'epoch': 0.11}\n"
     ]
    },
    {
     "name": "stderr",
     "output_type": "stream",
     "text": [
      "  3%|▎         | 60/2190 [02:49<1:41:19,  2.85s/it]"
     ]
    },
    {
     "name": "stdout",
     "output_type": "stream",
     "text": [
      "{'loss': 3.1238, 'grad_norm': 8.806114196777344, 'learning_rate': 6e-06, 'epoch': 0.14}\n"
     ]
    },
    {
     "name": "stderr",
     "output_type": "stream",
     "text": [
      "  3%|▎         | 70/2190 [03:19<1:42:24,  2.90s/it]"
     ]
    },
    {
     "name": "stdout",
     "output_type": "stream",
     "text": [
      "{'loss': 3.0965, 'grad_norm': 8.410340309143066, 'learning_rate': 7.000000000000001e-06, 'epoch': 0.16}\n"
     ]
    },
    {
     "name": "stderr",
     "output_type": "stream",
     "text": [
      "  4%|▎         | 80/2190 [03:49<1:40:29,  2.86s/it]"
     ]
    },
    {
     "name": "stdout",
     "output_type": "stream",
     "text": [
      "{'loss': 2.9679, 'grad_norm': 9.232427597045898, 'learning_rate': 8.000000000000001e-06, 'epoch': 0.18}\n"
     ]
    },
    {
     "name": "stderr",
     "output_type": "stream",
     "text": [
      "  4%|▍         | 90/2190 [04:18<1:38:24,  2.81s/it]"
     ]
    },
    {
     "name": "stdout",
     "output_type": "stream",
     "text": [
      "{'loss': 2.845, 'grad_norm': 15.696187019348145, 'learning_rate': 9e-06, 'epoch': 0.21}\n"
     ]
    },
    {
     "name": "stderr",
     "output_type": "stream",
     "text": [
      "  5%|▍         | 100/2190 [04:48<1:39:21,  2.85s/it]"
     ]
    },
    {
     "name": "stdout",
     "output_type": "stream",
     "text": [
      "{'loss': 2.737, 'grad_norm': 8.913854598999023, 'learning_rate': 1e-05, 'epoch': 0.23}\n"
     ]
    },
    {
     "name": "stderr",
     "output_type": "stream",
     "text": [
      "  5%|▌         | 110/2190 [05:22<1:48:11,  3.12s/it]"
     ]
    },
    {
     "name": "stdout",
     "output_type": "stream",
     "text": [
      "{'loss': 2.6704, 'grad_norm': 9.232726097106934, 'learning_rate': 1.1000000000000001e-05, 'epoch': 0.25}\n"
     ]
    },
    {
     "name": "stderr",
     "output_type": "stream",
     "text": [
      "  5%|▌         | 120/2190 [05:53<1:43:05,  2.99s/it]"
     ]
    },
    {
     "name": "stdout",
     "output_type": "stream",
     "text": [
      "{'loss': 2.4898, 'grad_norm': 6.544795513153076, 'learning_rate': 1.2e-05, 'epoch': 0.27}\n"
     ]
    },
    {
     "name": "stderr",
     "output_type": "stream",
     "text": [
      "  6%|▌         | 130/2190 [06:24<1:44:05,  3.03s/it]"
     ]
    },
    {
     "name": "stdout",
     "output_type": "stream",
     "text": [
      "{'loss': 2.4484, 'grad_norm': 7.556593894958496, 'learning_rate': 1.3000000000000001e-05, 'epoch': 0.3}\n"
     ]
    },
    {
     "name": "stderr",
     "output_type": "stream",
     "text": [
      "  6%|▋         | 140/2190 [06:56<1:44:15,  3.05s/it]"
     ]
    },
    {
     "name": "stdout",
     "output_type": "stream",
     "text": [
      "{'loss': 2.3405, 'grad_norm': 9.274107933044434, 'learning_rate': 1.4000000000000001e-05, 'epoch': 0.32}\n"
     ]
    },
    {
     "name": "stderr",
     "output_type": "stream",
     "text": [
      "  7%|▋         | 150/2190 [07:28<1:51:02,  3.27s/it]"
     ]
    },
    {
     "name": "stdout",
     "output_type": "stream",
     "text": [
      "{'loss': 2.3447, 'grad_norm': 7.5112481117248535, 'learning_rate': 1.5e-05, 'epoch': 0.34}\n"
     ]
    },
    {
     "name": "stderr",
     "output_type": "stream",
     "text": [
      "  7%|▋         | 160/2190 [08:09<1:59:57,  3.55s/it]"
     ]
    },
    {
     "name": "stdout",
     "output_type": "stream",
     "text": [
      "{'loss': 2.1936, 'grad_norm': 9.52254581451416, 'learning_rate': 1.6000000000000003e-05, 'epoch': 0.37}\n"
     ]
    },
    {
     "name": "stderr",
     "output_type": "stream",
     "text": [
      "  8%|▊         | 170/2190 [08:43<1:56:22,  3.46s/it]"
     ]
    },
    {
     "name": "stdout",
     "output_type": "stream",
     "text": [
      "{'loss': 2.1853, 'grad_norm': 6.716801166534424, 'learning_rate': 1.7000000000000003e-05, 'epoch': 0.39}\n"
     ]
    },
    {
     "name": "stderr",
     "output_type": "stream",
     "text": [
      "  8%|▊         | 180/2190 [09:16<1:45:01,  3.13s/it]"
     ]
    },
    {
     "name": "stdout",
     "output_type": "stream",
     "text": [
      "{'loss': 2.1222, 'grad_norm': 7.100554943084717, 'learning_rate': 1.8e-05, 'epoch': 0.41}\n"
     ]
    },
    {
     "name": "stderr",
     "output_type": "stream",
     "text": [
      "  9%|▊         | 190/2190 [09:51<1:57:16,  3.52s/it]"
     ]
    },
    {
     "name": "stdout",
     "output_type": "stream",
     "text": [
      "{'loss': 1.9669, 'grad_norm': 5.633819103240967, 'learning_rate': 1.9e-05, 'epoch': 0.43}\n"
     ]
    },
    {
     "name": "stderr",
     "output_type": "stream",
     "text": [
      "  9%|▉         | 200/2190 [10:26<1:56:34,  3.51s/it]"
     ]
    },
    {
     "name": "stdout",
     "output_type": "stream",
     "text": [
      "{'loss': 1.9835, 'grad_norm': 6.119176387786865, 'learning_rate': 2e-05, 'epoch': 0.46}\n"
     ]
    },
    {
     "name": "stderr",
     "output_type": "stream",
     "text": [
      " 10%|▉         | 210/2190 [11:02<1:57:52,  3.57s/it]"
     ]
    },
    {
     "name": "stdout",
     "output_type": "stream",
     "text": [
      "{'loss': 1.8311, 'grad_norm': 7.760915756225586, 'learning_rate': 2.1e-05, 'epoch': 0.48}\n"
     ]
    },
    {
     "name": "stderr",
     "output_type": "stream",
     "text": [
      " 10%|█         | 220/2190 [11:39<2:02:33,  3.73s/it]"
     ]
    },
    {
     "name": "stdout",
     "output_type": "stream",
     "text": [
      "{'loss': 1.8395, 'grad_norm': 7.2743659019470215, 'learning_rate': 2.2000000000000003e-05, 'epoch': 0.5}\n"
     ]
    },
    {
     "name": "stderr",
     "output_type": "stream",
     "text": [
      " 11%|█         | 230/2190 [12:17<2:04:42,  3.82s/it]"
     ]
    },
    {
     "name": "stdout",
     "output_type": "stream",
     "text": [
      "{'loss': 1.8272, 'grad_norm': 5.438333988189697, 'learning_rate': 2.3000000000000003e-05, 'epoch': 0.53}\n"
     ]
    },
    {
     "name": "stderr",
     "output_type": "stream",
     "text": [
      " 11%|█         | 240/2190 [12:55<2:04:03,  3.82s/it]"
     ]
    },
    {
     "name": "stdout",
     "output_type": "stream",
     "text": [
      "{'loss': 1.6879, 'grad_norm': 11.014506340026855, 'learning_rate': 2.4e-05, 'epoch': 0.55}\n"
     ]
    },
    {
     "name": "stderr",
     "output_type": "stream",
     "text": [
      " 11%|█▏        | 250/2190 [13:33<2:03:32,  3.82s/it]"
     ]
    },
    {
     "name": "stdout",
     "output_type": "stream",
     "text": [
      "{'loss': 1.6868, 'grad_norm': 7.5759735107421875, 'learning_rate': 2.5e-05, 'epoch': 0.57}\n"
     ]
    },
    {
     "name": "stderr",
     "output_type": "stream",
     "text": [
      " 12%|█▏        | 260/2190 [14:12<2:03:38,  3.84s/it]"
     ]
    },
    {
     "name": "stdout",
     "output_type": "stream",
     "text": [
      "{'loss': 1.5864, 'grad_norm': 5.9794230461120605, 'learning_rate': 2.6000000000000002e-05, 'epoch': 0.59}\n"
     ]
    },
    {
     "name": "stderr",
     "output_type": "stream",
     "text": [
      " 12%|█▏        | 270/2190 [14:50<2:03:43,  3.87s/it]"
     ]
    },
    {
     "name": "stdout",
     "output_type": "stream",
     "text": [
      "{'loss': 1.4826, 'grad_norm': 13.364853858947754, 'learning_rate': 2.7000000000000002e-05, 'epoch': 0.62}\n"
     ]
    },
    {
     "name": "stderr",
     "output_type": "stream",
     "text": [
      " 13%|█▎        | 280/2190 [15:29<2:01:30,  3.82s/it]"
     ]
    },
    {
     "name": "stdout",
     "output_type": "stream",
     "text": [
      "{'loss': 1.5856, 'grad_norm': 5.842952728271484, 'learning_rate': 2.8000000000000003e-05, 'epoch': 0.64}\n"
     ]
    },
    {
     "name": "stderr",
     "output_type": "stream",
     "text": [
      " 13%|█▎        | 290/2190 [16:07<2:01:11,  3.83s/it]"
     ]
    },
    {
     "name": "stdout",
     "output_type": "stream",
     "text": [
      "{'loss': 1.5242, 'grad_norm': 9.206738471984863, 'learning_rate': 2.9e-05, 'epoch': 0.66}\n"
     ]
    },
    {
     "name": "stderr",
     "output_type": "stream",
     "text": [
      " 14%|█▎        | 300/2190 [16:45<2:01:07,  3.85s/it]"
     ]
    },
    {
     "name": "stdout",
     "output_type": "stream",
     "text": [
      "{'loss': 1.6717, 'grad_norm': 5.818850517272949, 'learning_rate': 3e-05, 'epoch': 0.68}\n"
     ]
    },
    {
     "name": "stderr",
     "output_type": "stream",
     "text": [
      " 14%|█▍        | 310/2190 [17:24<2:00:02,  3.83s/it]"
     ]
    },
    {
     "name": "stdout",
     "output_type": "stream",
     "text": [
      "{'loss': 1.5099, 'grad_norm': 11.523473739624023, 'learning_rate': 3.1e-05, 'epoch': 0.71}\n"
     ]
    },
    {
     "name": "stderr",
     "output_type": "stream",
     "text": [
      " 15%|█▍        | 320/2190 [18:02<1:59:18,  3.83s/it]"
     ]
    },
    {
     "name": "stdout",
     "output_type": "stream",
     "text": [
      "{'loss': 1.772, 'grad_norm': 11.011439323425293, 'learning_rate': 3.2000000000000005e-05, 'epoch': 0.73}\n"
     ]
    },
    {
     "name": "stderr",
     "output_type": "stream",
     "text": [
      " 15%|█▌        | 330/2190 [18:41<1:58:55,  3.84s/it]"
     ]
    },
    {
     "name": "stdout",
     "output_type": "stream",
     "text": [
      "{'loss': 1.5937, 'grad_norm': 5.346635341644287, 'learning_rate': 3.3e-05, 'epoch': 0.75}\n"
     ]
    },
    {
     "name": "stderr",
     "output_type": "stream",
     "text": [
      " 16%|█▌        | 340/2190 [19:19<1:57:24,  3.81s/it]"
     ]
    },
    {
     "name": "stdout",
     "output_type": "stream",
     "text": [
      "{'loss': 1.2819, 'grad_norm': 9.095487594604492, 'learning_rate': 3.4000000000000007e-05, 'epoch': 0.78}\n"
     ]
    },
    {
     "name": "stderr",
     "output_type": "stream",
     "text": [
      " 16%|█▌        | 350/2190 [19:58<1:57:46,  3.84s/it]"
     ]
    },
    {
     "name": "stdout",
     "output_type": "stream",
     "text": [
      "{'loss': 1.4623, 'grad_norm': 6.170387268066406, 'learning_rate': 3.5e-05, 'epoch': 0.8}\n"
     ]
    },
    {
     "name": "stderr",
     "output_type": "stream",
     "text": [
      " 16%|█▋        | 360/2190 [20:36<1:57:23,  3.85s/it]"
     ]
    },
    {
     "name": "stdout",
     "output_type": "stream",
     "text": [
      "{'loss': 1.3578, 'grad_norm': 19.250478744506836, 'learning_rate': 3.6e-05, 'epoch': 0.82}\n"
     ]
    },
    {
     "name": "stderr",
     "output_type": "stream",
     "text": [
      " 17%|█▋        | 370/2190 [21:15<1:56:53,  3.85s/it]"
     ]
    },
    {
     "name": "stdout",
     "output_type": "stream",
     "text": [
      "{'loss': 1.2269, 'grad_norm': 9.502862930297852, 'learning_rate': 3.7e-05, 'epoch': 0.84}\n"
     ]
    },
    {
     "name": "stderr",
     "output_type": "stream",
     "text": [
      " 17%|█▋        | 380/2190 [21:53<1:54:58,  3.81s/it]"
     ]
    },
    {
     "name": "stdout",
     "output_type": "stream",
     "text": [
      "{'loss': 1.2258, 'grad_norm': 19.184478759765625, 'learning_rate': 3.8e-05, 'epoch': 0.87}\n"
     ]
    },
    {
     "name": "stderr",
     "output_type": "stream",
     "text": [
      " 18%|█▊        | 390/2190 [22:31<1:54:27,  3.82s/it]"
     ]
    },
    {
     "name": "stdout",
     "output_type": "stream",
     "text": [
      "{'loss': 1.1934, 'grad_norm': 15.618135452270508, 'learning_rate': 3.9000000000000006e-05, 'epoch': 0.89}\n"
     ]
    },
    {
     "name": "stderr",
     "output_type": "stream",
     "text": [
      " 18%|█▊        | 400/2190 [23:08<1:49:17,  3.66s/it]"
     ]
    },
    {
     "name": "stdout",
     "output_type": "stream",
     "text": [
      "{'loss': 1.187, 'grad_norm': 10.545511245727539, 'learning_rate': 4e-05, 'epoch': 0.91}\n"
     ]
    },
    {
     "name": "stderr",
     "output_type": "stream",
     "text": [
      " 19%|█▊        | 410/2190 [23:44<1:44:55,  3.54s/it]"
     ]
    },
    {
     "name": "stdout",
     "output_type": "stream",
     "text": [
      "{'loss': 1.1214, 'grad_norm': 8.149923324584961, 'learning_rate': 4.1e-05, 'epoch': 0.94}\n"
     ]
    },
    {
     "name": "stderr",
     "output_type": "stream",
     "text": [
      " 19%|█▉        | 420/2190 [24:19<1:43:47,  3.52s/it]"
     ]
    },
    {
     "name": "stdout",
     "output_type": "stream",
     "text": [
      "{'loss': 1.207, 'grad_norm': 17.212080001831055, 'learning_rate': 4.2e-05, 'epoch': 0.96}\n"
     ]
    },
    {
     "name": "stderr",
     "output_type": "stream",
     "text": [
      " 20%|█▉        | 430/2190 [24:55<1:44:44,  3.57s/it]"
     ]
    },
    {
     "name": "stdout",
     "output_type": "stream",
     "text": [
      "{'loss': 1.0774, 'grad_norm': 5.959299564361572, 'learning_rate': 4.3e-05, 'epoch': 0.98}\n"
     ]
    },
    {
     "name": "stderr",
     "output_type": "stream",
     "text": [
      " 20%|██        | 440/2190 [25:29<1:37:32,  3.34s/it]"
     ]
    },
    {
     "name": "stdout",
     "output_type": "stream",
     "text": [
      "{'loss': 0.9421, 'grad_norm': 9.777104377746582, 'learning_rate': 4.4000000000000006e-05, 'epoch': 1.0}\n"
     ]
    },
    {
     "name": "stderr",
     "output_type": "stream",
     "text": [
      " 21%|██        | 450/2190 [26:03<1:35:02,  3.28s/it]"
     ]
    },
    {
     "name": "stdout",
     "output_type": "stream",
     "text": [
      "{'loss': 0.9949, 'grad_norm': 11.449511528015137, 'learning_rate': 4.5e-05, 'epoch': 1.03}\n"
     ]
    },
    {
     "name": "stderr",
     "output_type": "stream",
     "text": [
      " 21%|██        | 460/2190 [26:36<1:29:54,  3.12s/it]"
     ]
    },
    {
     "name": "stdout",
     "output_type": "stream",
     "text": [
      "{'loss': 0.8036, 'grad_norm': 7.745826721191406, 'learning_rate': 4.600000000000001e-05, 'epoch': 1.05}\n"
     ]
    },
    {
     "name": "stderr",
     "output_type": "stream",
     "text": [
      " 21%|██▏       | 470/2190 [27:09<1:29:56,  3.14s/it]"
     ]
    },
    {
     "name": "stdout",
     "output_type": "stream",
     "text": [
      "{'loss': 1.0385, 'grad_norm': 7.046844482421875, 'learning_rate': 4.7e-05, 'epoch': 1.07}\n"
     ]
    },
    {
     "name": "stderr",
     "output_type": "stream",
     "text": [
      " 22%|██▏       | 480/2190 [27:42<1:29:26,  3.14s/it]"
     ]
    },
    {
     "name": "stdout",
     "output_type": "stream",
     "text": [
      "{'loss': 0.9985, 'grad_norm': 11.529535293579102, 'learning_rate': 4.8e-05, 'epoch': 1.1}\n"
     ]
    },
    {
     "name": "stderr",
     "output_type": "stream",
     "text": [
      " 22%|██▏       | 490/2190 [28:15<1:29:28,  3.16s/it]"
     ]
    },
    {
     "name": "stdout",
     "output_type": "stream",
     "text": [
      "{'loss': 1.0928, 'grad_norm': 25.391569137573242, 'learning_rate': 4.9e-05, 'epoch': 1.12}\n"
     ]
    },
    {
     "name": "stderr",
     "output_type": "stream",
     "text": [
      " 23%|██▎       | 500/2190 [28:48<1:27:55,  3.12s/it]"
     ]
    },
    {
     "name": "stdout",
     "output_type": "stream",
     "text": [
      "{'loss': 0.9678, 'grad_norm': 13.239424705505371, 'learning_rate': 5e-05, 'epoch': 1.14}\n"
     ]
    },
    {
     "name": "stderr",
     "output_type": "stream",
     "text": [
      " 23%|██▎       | 510/2190 [29:23<1:32:54,  3.32s/it]"
     ]
    },
    {
     "name": "stdout",
     "output_type": "stream",
     "text": [
      "{'loss': 0.7739, 'grad_norm': 5.559863090515137, 'learning_rate': 4.970414201183432e-05, 'epoch': 1.16}\n"
     ]
    },
    {
     "name": "stderr",
     "output_type": "stream",
     "text": [
      " 24%|██▎       | 520/2190 [29:59<1:39:55,  3.59s/it]"
     ]
    },
    {
     "name": "stdout",
     "output_type": "stream",
     "text": [
      "{'loss': 0.9534, 'grad_norm': 4.398015022277832, 'learning_rate': 4.9408284023668644e-05, 'epoch': 1.19}\n"
     ]
    },
    {
     "name": "stderr",
     "output_type": "stream",
     "text": [
      " 24%|██▍       | 530/2190 [30:35<1:37:08,  3.51s/it]"
     ]
    },
    {
     "name": "stdout",
     "output_type": "stream",
     "text": [
      "{'loss': 0.7883, 'grad_norm': 15.698185920715332, 'learning_rate': 4.9112426035502965e-05, 'epoch': 1.21}\n"
     ]
    },
    {
     "name": "stderr",
     "output_type": "stream",
     "text": [
      " 25%|██▍       | 540/2190 [31:12<1:38:18,  3.57s/it]"
     ]
    },
    {
     "name": "stdout",
     "output_type": "stream",
     "text": [
      "{'loss': 1.0105, 'grad_norm': 9.050132751464844, 'learning_rate': 4.881656804733728e-05, 'epoch': 1.23}\n"
     ]
    },
    {
     "name": "stderr",
     "output_type": "stream",
     "text": [
      " 25%|██▌       | 550/2190 [32:04<2:35:23,  5.68s/it]"
     ]
    },
    {
     "name": "stdout",
     "output_type": "stream",
     "text": [
      "{'loss': 1.0343, 'grad_norm': 6.652413368225098, 'learning_rate': 4.85207100591716e-05, 'epoch': 1.26}\n"
     ]
    },
    {
     "name": "stderr",
     "output_type": "stream",
     "text": [
      " 26%|██▌       | 560/2190 [32:46<1:47:19,  3.95s/it]"
     ]
    },
    {
     "name": "stdout",
     "output_type": "stream",
     "text": [
      "{'loss': 0.7666, 'grad_norm': 14.453807830810547, 'learning_rate': 4.822485207100592e-05, 'epoch': 1.28}\n"
     ]
    },
    {
     "name": "stderr",
     "output_type": "stream",
     "text": [
      " 26%|██▌       | 570/2190 [33:25<1:45:48,  3.92s/it]"
     ]
    },
    {
     "name": "stdout",
     "output_type": "stream",
     "text": [
      "{'loss': 0.7133, 'grad_norm': 6.789384365081787, 'learning_rate': 4.792899408284024e-05, 'epoch': 1.3}\n"
     ]
    },
    {
     "name": "stderr",
     "output_type": "stream",
     "text": [
      " 26%|██▋       | 580/2190 [34:04<1:44:37,  3.90s/it]"
     ]
    },
    {
     "name": "stdout",
     "output_type": "stream",
     "text": [
      "{'loss': 1.0754, 'grad_norm': 23.184925079345703, 'learning_rate': 4.7633136094674555e-05, 'epoch': 1.32}\n"
     ]
    },
    {
     "name": "stderr",
     "output_type": "stream",
     "text": [
      " 27%|██▋       | 590/2190 [34:43<1:43:22,  3.88s/it]"
     ]
    },
    {
     "name": "stdout",
     "output_type": "stream",
     "text": [
      "{'loss': 0.9877, 'grad_norm': 9.158428192138672, 'learning_rate': 4.7337278106508875e-05, 'epoch': 1.35}\n"
     ]
    },
    {
     "name": "stderr",
     "output_type": "stream",
     "text": [
      " 27%|██▋       | 600/2190 [35:19<1:34:45,  3.58s/it]"
     ]
    },
    {
     "name": "stdout",
     "output_type": "stream",
     "text": [
      "{'loss': 0.8673, 'grad_norm': 14.378182411193848, 'learning_rate': 4.7041420118343196e-05, 'epoch': 1.37}\n"
     ]
    },
    {
     "name": "stderr",
     "output_type": "stream",
     "text": [
      " 28%|██▊       | 610/2190 [35:55<1:34:32,  3.59s/it]"
     ]
    },
    {
     "name": "stdout",
     "output_type": "stream",
     "text": [
      "{'loss': 1.0789, 'grad_norm': 6.567833423614502, 'learning_rate': 4.674556213017752e-05, 'epoch': 1.39}\n"
     ]
    },
    {
     "name": "stderr",
     "output_type": "stream",
     "text": [
      " 28%|██▊       | 620/2190 [36:32<1:43:20,  3.95s/it]"
     ]
    },
    {
     "name": "stdout",
     "output_type": "stream",
     "text": [
      "{'loss': 0.9558, 'grad_norm': 7.1128411293029785, 'learning_rate': 4.644970414201184e-05, 'epoch': 1.42}\n"
     ]
    },
    {
     "name": "stderr",
     "output_type": "stream",
     "text": [
      " 29%|██▉       | 630/2190 [37:12<1:43:44,  3.99s/it]"
     ]
    },
    {
     "name": "stdout",
     "output_type": "stream",
     "text": [
      "{'loss': 0.7907, 'grad_norm': 13.16209888458252, 'learning_rate': 4.615384615384616e-05, 'epoch': 1.44}\n"
     ]
    },
    {
     "name": "stderr",
     "output_type": "stream",
     "text": [
      " 29%|██▉       | 640/2190 [37:52<1:50:47,  4.29s/it]"
     ]
    },
    {
     "name": "stdout",
     "output_type": "stream",
     "text": [
      "{'loss': 0.9443, 'grad_norm': 10.644700050354004, 'learning_rate': 4.585798816568048e-05, 'epoch': 1.46}\n"
     ]
    },
    {
     "name": "stderr",
     "output_type": "stream",
     "text": [
      " 30%|██▉       | 650/2190 [38:45<2:16:34,  5.32s/it]"
     ]
    },
    {
     "name": "stdout",
     "output_type": "stream",
     "text": [
      "{'loss': 0.9467, 'grad_norm': 11.95300579071045, 'learning_rate': 4.556213017751479e-05, 'epoch': 1.48}\n"
     ]
    },
    {
     "name": "stderr",
     "output_type": "stream",
     "text": [
      " 30%|███       | 660/2190 [39:48<3:01:10,  7.10s/it]"
     ]
    },
    {
     "name": "stdout",
     "output_type": "stream",
     "text": [
      "{'loss': 0.898, 'grad_norm': 10.514983177185059, 'learning_rate': 4.5266272189349114e-05, 'epoch': 1.51}\n"
     ]
    },
    {
     "name": "stderr",
     "output_type": "stream",
     "text": [
      " 31%|███       | 670/2190 [41:06<3:25:22,  8.11s/it]"
     ]
    },
    {
     "name": "stdout",
     "output_type": "stream",
     "text": [
      "{'loss': 0.981, 'grad_norm': 5.512526988983154, 'learning_rate': 4.4970414201183434e-05, 'epoch': 1.53}\n"
     ]
    },
    {
     "name": "stderr",
     "output_type": "stream",
     "text": [
      " 31%|███       | 680/2190 [42:14<2:26:29,  5.82s/it]"
     ]
    },
    {
     "name": "stdout",
     "output_type": "stream",
     "text": [
      "{'loss': 0.9626, 'grad_norm': 12.231273651123047, 'learning_rate': 4.4674556213017755e-05, 'epoch': 1.55}\n"
     ]
    },
    {
     "name": "stderr",
     "output_type": "stream",
     "text": [
      " 32%|███▏      | 690/2190 [42:59<1:51:14,  4.45s/it]"
     ]
    },
    {
     "name": "stdout",
     "output_type": "stream",
     "text": [
      "{'loss': 0.7782, 'grad_norm': 14.714585304260254, 'learning_rate': 4.437869822485207e-05, 'epoch': 1.58}\n"
     ]
    },
    {
     "name": "stderr",
     "output_type": "stream",
     "text": [
      " 32%|███▏      | 700/2190 [43:39<1:37:07,  3.91s/it]"
     ]
    },
    {
     "name": "stdout",
     "output_type": "stream",
     "text": [
      "{'loss': 0.8648, 'grad_norm': 17.744213104248047, 'learning_rate': 4.408284023668639e-05, 'epoch': 1.6}\n"
     ]
    },
    {
     "name": "stderr",
     "output_type": "stream",
     "text": [
      " 32%|███▏      | 710/2190 [44:17<1:36:02,  3.89s/it]"
     ]
    },
    {
     "name": "stdout",
     "output_type": "stream",
     "text": [
      "{'loss': 1.1302, 'grad_norm': 7.730104446411133, 'learning_rate': 4.378698224852072e-05, 'epoch': 1.62}\n"
     ]
    },
    {
     "name": "stderr",
     "output_type": "stream",
     "text": [
      " 33%|███▎      | 720/2190 [44:55<1:30:31,  3.69s/it]"
     ]
    },
    {
     "name": "stdout",
     "output_type": "stream",
     "text": [
      "{'loss': 0.7972, 'grad_norm': 8.604286193847656, 'learning_rate': 4.349112426035503e-05, 'epoch': 1.64}\n"
     ]
    },
    {
     "name": "stderr",
     "output_type": "stream",
     "text": [
      " 33%|███▎      | 730/2190 [45:31<1:26:30,  3.55s/it]"
     ]
    },
    {
     "name": "stdout",
     "output_type": "stream",
     "text": [
      "{'loss': 1.0558, 'grad_norm': 7.729647636413574, 'learning_rate': 4.319526627218935e-05, 'epoch': 1.67}\n"
     ]
    },
    {
     "name": "stderr",
     "output_type": "stream",
     "text": [
      " 34%|███▍      | 740/2190 [46:06<1:23:23,  3.45s/it]"
     ]
    },
    {
     "name": "stdout",
     "output_type": "stream",
     "text": [
      "{'loss': 0.816, 'grad_norm': 9.770186424255371, 'learning_rate': 4.289940828402367e-05, 'epoch': 1.69}\n"
     ]
    },
    {
     "name": "stderr",
     "output_type": "stream",
     "text": [
      " 34%|███▍      | 750/2190 [46:41<1:21:01,  3.38s/it]"
     ]
    },
    {
     "name": "stdout",
     "output_type": "stream",
     "text": [
      "{'loss': 0.705, 'grad_norm': 7.391653537750244, 'learning_rate': 4.260355029585799e-05, 'epoch': 1.71}\n"
     ]
    },
    {
     "name": "stderr",
     "output_type": "stream",
     "text": [
      " 35%|███▍      | 760/2190 [47:15<1:19:31,  3.34s/it]"
     ]
    },
    {
     "name": "stdout",
     "output_type": "stream",
     "text": [
      "{'loss': 0.7644, 'grad_norm': 14.24123477935791, 'learning_rate': 4.230769230769231e-05, 'epoch': 1.74}\n"
     ]
    },
    {
     "name": "stderr",
     "output_type": "stream",
     "text": [
      " 35%|███▌      | 770/2190 [47:53<1:30:33,  3.83s/it]"
     ]
    },
    {
     "name": "stdout",
     "output_type": "stream",
     "text": [
      "{'loss': 1.0474, 'grad_norm': 8.93184757232666, 'learning_rate': 4.201183431952663e-05, 'epoch': 1.76}\n"
     ]
    },
    {
     "name": "stderr",
     "output_type": "stream",
     "text": [
      " 36%|███▌      | 780/2190 [48:32<1:29:49,  3.82s/it]"
     ]
    },
    {
     "name": "stdout",
     "output_type": "stream",
     "text": [
      "{'loss': 0.9073, 'grad_norm': 5.95659065246582, 'learning_rate': 4.171597633136095e-05, 'epoch': 1.78}\n"
     ]
    },
    {
     "name": "stderr",
     "output_type": "stream",
     "text": [
      " 36%|███▌      | 790/2190 [49:06<1:16:26,  3.28s/it]"
     ]
    },
    {
     "name": "stdout",
     "output_type": "stream",
     "text": [
      "{'loss': 0.8684, 'grad_norm': 11.494759559631348, 'learning_rate': 4.142011834319527e-05, 'epoch': 1.8}\n"
     ]
    },
    {
     "name": "stderr",
     "output_type": "stream",
     "text": [
      " 37%|███▋      | 800/2190 [49:40<1:14:34,  3.22s/it]"
     ]
    },
    {
     "name": "stdout",
     "output_type": "stream",
     "text": [
      "{'loss': 0.6128, 'grad_norm': 9.102614402770996, 'learning_rate': 4.112426035502959e-05, 'epoch': 1.83}\n"
     ]
    },
    {
     "name": "stderr",
     "output_type": "stream",
     "text": [
      " 37%|███▋      | 810/2190 [50:12<1:11:32,  3.11s/it]"
     ]
    },
    {
     "name": "stdout",
     "output_type": "stream",
     "text": [
      "{'loss': 0.8431, 'grad_norm': 13.555418968200684, 'learning_rate': 4.0828402366863904e-05, 'epoch': 1.85}\n"
     ]
    },
    {
     "name": "stderr",
     "output_type": "stream",
     "text": [
      " 37%|███▋      | 820/2190 [50:43<1:06:54,  2.93s/it]"
     ]
    },
    {
     "name": "stdout",
     "output_type": "stream",
     "text": [
      "{'loss': 0.6699, 'grad_norm': 4.990478992462158, 'learning_rate': 4.053254437869823e-05, 'epoch': 1.87}\n"
     ]
    },
    {
     "name": "stderr",
     "output_type": "stream",
     "text": [
      " 38%|███▊      | 830/2190 [51:14<1:06:46,  2.95s/it]"
     ]
    },
    {
     "name": "stdout",
     "output_type": "stream",
     "text": [
      "{'loss': 0.7905, 'grad_norm': 5.108376502990723, 'learning_rate': 4.0236686390532545e-05, 'epoch': 1.89}\n"
     ]
    },
    {
     "name": "stderr",
     "output_type": "stream",
     "text": [
      " 38%|███▊      | 840/2190 [51:44<1:04:17,  2.86s/it]"
     ]
    },
    {
     "name": "stdout",
     "output_type": "stream",
     "text": [
      "{'loss': 0.5984, 'grad_norm': 3.58889102935791, 'learning_rate': 3.9940828402366866e-05, 'epoch': 1.92}\n"
     ]
    },
    {
     "name": "stderr",
     "output_type": "stream",
     "text": [
      " 39%|███▉      | 850/2190 [52:15<1:05:35,  2.94s/it]"
     ]
    },
    {
     "name": "stdout",
     "output_type": "stream",
     "text": [
      "{'loss': 0.9443, 'grad_norm': 2.232215642929077, 'learning_rate': 3.964497041420119e-05, 'epoch': 1.94}\n"
     ]
    },
    {
     "name": "stderr",
     "output_type": "stream",
     "text": [
      " 39%|███▉      | 860/2190 [52:46<1:05:08,  2.94s/it]"
     ]
    },
    {
     "name": "stdout",
     "output_type": "stream",
     "text": [
      "{'loss': 1.0369, 'grad_norm': 6.520757675170898, 'learning_rate': 3.934911242603551e-05, 'epoch': 1.96}\n"
     ]
    },
    {
     "name": "stderr",
     "output_type": "stream",
     "text": [
      " 40%|███▉      | 870/2190 [53:16<1:03:24,  2.88s/it]"
     ]
    },
    {
     "name": "stdout",
     "output_type": "stream",
     "text": [
      "{'loss': 0.8314, 'grad_norm': 6.542271614074707, 'learning_rate': 3.905325443786982e-05, 'epoch': 1.99}\n"
     ]
    },
    {
     "name": "stderr",
     "output_type": "stream",
     "text": [
      " 40%|████      | 880/2190 [53:45<1:01:21,  2.81s/it]"
     ]
    },
    {
     "name": "stdout",
     "output_type": "stream",
     "text": [
      "{'loss': 0.9386, 'grad_norm': 2.7105140686035156, 'learning_rate': 3.875739644970414e-05, 'epoch': 2.01}\n"
     ]
    },
    {
     "name": "stderr",
     "output_type": "stream",
     "text": [
      " 41%|████      | 890/2190 [54:16<1:02:39,  2.89s/it]"
     ]
    },
    {
     "name": "stdout",
     "output_type": "stream",
     "text": [
      "{'loss': 0.5573, 'grad_norm': 4.279973030090332, 'learning_rate': 3.846153846153846e-05, 'epoch': 2.03}\n"
     ]
    },
    {
     "name": "stderr",
     "output_type": "stream",
     "text": [
      " 41%|████      | 900/2190 [54:46<1:02:05,  2.89s/it]"
     ]
    },
    {
     "name": "stdout",
     "output_type": "stream",
     "text": [
      "{'loss': 0.704, 'grad_norm': 24.839378356933594, 'learning_rate': 3.8165680473372784e-05, 'epoch': 2.05}\n"
     ]
    },
    {
     "name": "stderr",
     "output_type": "stream",
     "text": [
      " 42%|████▏     | 910/2190 [55:17<1:01:40,  2.89s/it]"
     ]
    },
    {
     "name": "stdout",
     "output_type": "stream",
     "text": [
      "{'loss': 0.6834, 'grad_norm': 4.470607757568359, 'learning_rate': 3.7869822485207104e-05, 'epoch': 2.08}\n"
     ]
    },
    {
     "name": "stderr",
     "output_type": "stream",
     "text": [
      " 42%|████▏     | 920/2190 [55:47<1:02:59,  2.98s/it]"
     ]
    },
    {
     "name": "stdout",
     "output_type": "stream",
     "text": [
      "{'loss': 0.6408, 'grad_norm': 11.89932918548584, 'learning_rate': 3.757396449704142e-05, 'epoch': 2.1}\n"
     ]
    },
    {
     "name": "stderr",
     "output_type": "stream",
     "text": [
      " 42%|████▏     | 930/2190 [56:19<1:04:32,  3.07s/it]"
     ]
    },
    {
     "name": "stdout",
     "output_type": "stream",
     "text": [
      "{'loss': 0.8188, 'grad_norm': 17.797948837280273, 'learning_rate': 3.7278106508875746e-05, 'epoch': 2.12}\n"
     ]
    },
    {
     "name": "stderr",
     "output_type": "stream",
     "text": [
      " 43%|████▎     | 940/2190 [56:52<1:05:33,  3.15s/it]"
     ]
    },
    {
     "name": "stdout",
     "output_type": "stream",
     "text": [
      "{'loss': 0.6976, 'grad_norm': 8.069485664367676, 'learning_rate': 3.698224852071006e-05, 'epoch': 2.15}\n"
     ]
    },
    {
     "name": "stderr",
     "output_type": "stream",
     "text": [
      " 43%|████▎     | 950/2190 [57:25<1:04:32,  3.12s/it]"
     ]
    },
    {
     "name": "stdout",
     "output_type": "stream",
     "text": [
      "{'loss': 0.7078, 'grad_norm': 8.881277084350586, 'learning_rate': 3.668639053254438e-05, 'epoch': 2.17}\n"
     ]
    },
    {
     "name": "stderr",
     "output_type": "stream",
     "text": [
      " 44%|████▍     | 960/2190 [57:58<1:05:53,  3.21s/it]"
     ]
    },
    {
     "name": "stdout",
     "output_type": "stream",
     "text": [
      "{'loss': 0.6772, 'grad_norm': 6.062371730804443, 'learning_rate': 3.63905325443787e-05, 'epoch': 2.19}\n"
     ]
    },
    {
     "name": "stderr",
     "output_type": "stream",
     "text": [
      " 44%|████▍     | 970/2190 [58:30<1:03:12,  3.11s/it]"
     ]
    },
    {
     "name": "stdout",
     "output_type": "stream",
     "text": [
      "{'loss': 0.7451, 'grad_norm': 5.0767364501953125, 'learning_rate': 3.609467455621302e-05, 'epoch': 2.21}\n"
     ]
    },
    {
     "name": "stderr",
     "output_type": "stream",
     "text": [
      " 45%|████▍     | 980/2190 [59:04<1:04:11,  3.18s/it]"
     ]
    },
    {
     "name": "stdout",
     "output_type": "stream",
     "text": [
      "{'loss': 0.6517, 'grad_norm': 5.0438761711120605, 'learning_rate': 3.5798816568047336e-05, 'epoch': 2.24}\n"
     ]
    },
    {
     "name": "stderr",
     "output_type": "stream",
     "text": [
      " 45%|████▌     | 990/2190 [59:38<1:03:15,  3.16s/it]"
     ]
    },
    {
     "name": "stdout",
     "output_type": "stream",
     "text": [
      "{'loss': 0.7042, 'grad_norm': 5.8721442222595215, 'learning_rate': 3.5502958579881656e-05, 'epoch': 2.26}\n"
     ]
    },
    {
     "name": "stderr",
     "output_type": "stream",
     "text": [
      " 46%|████▌     | 1000/2190 [1:00:10<1:02:09,  3.13s/it]"
     ]
    },
    {
     "name": "stdout",
     "output_type": "stream",
     "text": [
      "{'loss': 0.5626, 'grad_norm': 7.723361968994141, 'learning_rate': 3.520710059171598e-05, 'epoch': 2.28}\n"
     ]
    },
    {
     "name": "stderr",
     "output_type": "stream",
     "text": [
      " 46%|████▌     | 1010/2190 [1:00:46<1:08:52,  3.50s/it]"
     ]
    },
    {
     "name": "stdout",
     "output_type": "stream",
     "text": [
      "{'loss': 0.7419, 'grad_norm': 7.880794048309326, 'learning_rate': 3.49112426035503e-05, 'epoch': 2.31}\n"
     ]
    },
    {
     "name": "stderr",
     "output_type": "stream",
     "text": [
      " 47%|████▋     | 1020/2190 [1:01:20<1:03:47,  3.27s/it]"
     ]
    },
    {
     "name": "stdout",
     "output_type": "stream",
     "text": [
      "{'loss': 0.4667, 'grad_norm': 5.288573741912842, 'learning_rate': 3.461538461538462e-05, 'epoch': 2.33}\n"
     ]
    },
    {
     "name": "stderr",
     "output_type": "stream",
     "text": [
      " 47%|████▋     | 1030/2190 [1:01:52<59:29,  3.08s/it]  "
     ]
    },
    {
     "name": "stdout",
     "output_type": "stream",
     "text": [
      "{'loss': 0.7473, 'grad_norm': 11.706862449645996, 'learning_rate': 3.431952662721893e-05, 'epoch': 2.35}\n"
     ]
    },
    {
     "name": "stderr",
     "output_type": "stream",
     "text": [
      " 47%|████▋     | 1040/2190 [1:02:24<57:27,  3.00s/it]  "
     ]
    },
    {
     "name": "stdout",
     "output_type": "stream",
     "text": [
      "{'loss': 0.5712, 'grad_norm': 5.445324420928955, 'learning_rate': 3.402366863905326e-05, 'epoch': 2.37}\n"
     ]
    },
    {
     "name": "stderr",
     "output_type": "stream",
     "text": [
      " 48%|████▊     | 1050/2190 [1:02:54<55:12,  2.91s/it]  "
     ]
    },
    {
     "name": "stdout",
     "output_type": "stream",
     "text": [
      "{'loss': 0.5443, 'grad_norm': 4.07282829284668, 'learning_rate': 3.3727810650887574e-05, 'epoch': 2.4}\n"
     ]
    },
    {
     "name": "stderr",
     "output_type": "stream",
     "text": [
      " 48%|████▊     | 1060/2190 [1:03:24<52:50,  2.81s/it]  "
     ]
    },
    {
     "name": "stdout",
     "output_type": "stream",
     "text": [
      "{'loss': 0.5688, 'grad_norm': 4.456881523132324, 'learning_rate': 3.3431952662721895e-05, 'epoch': 2.42}\n"
     ]
    },
    {
     "name": "stderr",
     "output_type": "stream",
     "text": [
      " 49%|████▉     | 1070/2190 [1:03:53<53:01,  2.84s/it]"
     ]
    },
    {
     "name": "stdout",
     "output_type": "stream",
     "text": [
      "{'loss': 0.6524, 'grad_norm': 5.244283199310303, 'learning_rate': 3.3136094674556215e-05, 'epoch': 2.44}\n"
     ]
    },
    {
     "name": "stderr",
     "output_type": "stream",
     "text": [
      " 49%|████▉     | 1080/2190 [1:04:23<52:00,  2.81s/it]"
     ]
    },
    {
     "name": "stdout",
     "output_type": "stream",
     "text": [
      "{'loss': 0.6352, 'grad_norm': 8.069120407104492, 'learning_rate': 3.2840236686390536e-05, 'epoch': 2.47}\n"
     ]
    },
    {
     "name": "stderr",
     "output_type": "stream",
     "text": [
      " 50%|████▉     | 1090/2190 [1:04:57<1:02:09,  3.39s/it]"
     ]
    },
    {
     "name": "stdout",
     "output_type": "stream",
     "text": [
      "{'loss': 0.6644, 'grad_norm': 3.827840566635132, 'learning_rate': 3.254437869822485e-05, 'epoch': 2.49}\n"
     ]
    },
    {
     "name": "stderr",
     "output_type": "stream",
     "text": [
      " 50%|█████     | 1100/2190 [1:05:28<52:44,  2.90s/it]  "
     ]
    },
    {
     "name": "stdout",
     "output_type": "stream",
     "text": [
      "{'loss': 0.7466, 'grad_norm': 5.065435886383057, 'learning_rate': 3.224852071005917e-05, 'epoch': 2.51}\n"
     ]
    },
    {
     "name": "stderr",
     "output_type": "stream",
     "text": [
      " 51%|█████     | 1110/2190 [1:05:59<54:43,  3.04s/it]"
     ]
    },
    {
     "name": "stdout",
     "output_type": "stream",
     "text": [
      "{'loss': 0.5161, 'grad_norm': 5.209803104400635, 'learning_rate': 3.195266272189349e-05, 'epoch': 2.53}\n"
     ]
    },
    {
     "name": "stderr",
     "output_type": "stream",
     "text": [
      " 51%|█████     | 1120/2190 [1:06:31<56:49,  3.19s/it]"
     ]
    },
    {
     "name": "stdout",
     "output_type": "stream",
     "text": [
      "{'loss': 0.5328, 'grad_norm': 8.925065994262695, 'learning_rate': 3.165680473372781e-05, 'epoch': 2.56}\n"
     ]
    },
    {
     "name": "stderr",
     "output_type": "stream",
     "text": [
      " 52%|█████▏    | 1130/2190 [1:07:04<59:41,  3.38s/it]"
     ]
    },
    {
     "name": "stdout",
     "output_type": "stream",
     "text": [
      "{'loss': 0.6891, 'grad_norm': 6.801901340484619, 'learning_rate': 3.136094674556213e-05, 'epoch': 2.58}\n"
     ]
    },
    {
     "name": "stderr",
     "output_type": "stream",
     "text": [
      " 52%|█████▏    | 1140/2190 [1:07:38<58:06,  3.32s/it]  "
     ]
    },
    {
     "name": "stdout",
     "output_type": "stream",
     "text": [
      "{'loss': 0.7072, 'grad_norm': 8.37158203125, 'learning_rate': 3.106508875739645e-05, 'epoch': 2.6}\n"
     ]
    },
    {
     "name": "stderr",
     "output_type": "stream",
     "text": [
      " 53%|█████▎    | 1150/2190 [1:08:11<57:50,  3.34s/it]"
     ]
    },
    {
     "name": "stdout",
     "output_type": "stream",
     "text": [
      "{'loss': 0.7164, 'grad_norm': 9.609090805053711, 'learning_rate': 3.0769230769230774e-05, 'epoch': 2.63}\n"
     ]
    },
    {
     "name": "stderr",
     "output_type": "stream",
     "text": [
      " 53%|█████▎    | 1160/2190 [1:08:45<57:35,  3.35s/it]"
     ]
    },
    {
     "name": "stdout",
     "output_type": "stream",
     "text": [
      "{'loss': 0.5885, 'grad_norm': 7.735570907592773, 'learning_rate': 3.047337278106509e-05, 'epoch': 2.65}\n"
     ]
    },
    {
     "name": "stderr",
     "output_type": "stream",
     "text": [
      " 53%|█████▎    | 1170/2190 [1:09:18<56:48,  3.34s/it]"
     ]
    },
    {
     "name": "stdout",
     "output_type": "stream",
     "text": [
      "{'loss': 0.6255, 'grad_norm': 10.082399368286133, 'learning_rate': 3.017751479289941e-05, 'epoch': 2.67}\n"
     ]
    },
    {
     "name": "stderr",
     "output_type": "stream",
     "text": [
      " 54%|█████▍    | 1180/2190 [1:09:53<57:59,  3.44s/it]"
     ]
    },
    {
     "name": "stdout",
     "output_type": "stream",
     "text": [
      "{'loss': 0.727, 'grad_norm': 7.2657856941223145, 'learning_rate': 2.9881656804733733e-05, 'epoch': 2.69}\n"
     ]
    },
    {
     "name": "stderr",
     "output_type": "stream",
     "text": [
      " 54%|█████▍    | 1190/2190 [1:10:27<56:58,  3.42s/it]"
     ]
    },
    {
     "name": "stdout",
     "output_type": "stream",
     "text": [
      "{'loss': 0.7296, 'grad_norm': 1.8973267078399658, 'learning_rate': 2.958579881656805e-05, 'epoch': 2.72}\n"
     ]
    },
    {
     "name": "stderr",
     "output_type": "stream",
     "text": [
      " 55%|█████▍    | 1200/2190 [1:11:01<55:30,  3.36s/it]"
     ]
    },
    {
     "name": "stdout",
     "output_type": "stream",
     "text": [
      "{'loss': 0.7332, 'grad_norm': 6.0302324295043945, 'learning_rate': 2.9289940828402368e-05, 'epoch': 2.74}\n"
     ]
    },
    {
     "name": "stderr",
     "output_type": "stream",
     "text": [
      " 55%|█████▌    | 1210/2190 [1:11:35<54:56,  3.36s/it]"
     ]
    },
    {
     "name": "stdout",
     "output_type": "stream",
     "text": [
      "{'loss': 0.5234, 'grad_norm': 10.992609024047852, 'learning_rate': 2.8994082840236685e-05, 'epoch': 2.76}\n"
     ]
    },
    {
     "name": "stderr",
     "output_type": "stream",
     "text": [
      " 56%|█████▌    | 1220/2190 [1:12:08<54:31,  3.37s/it]"
     ]
    },
    {
     "name": "stdout",
     "output_type": "stream",
     "text": [
      "{'loss': 0.7401, 'grad_norm': 10.905060768127441, 'learning_rate': 2.869822485207101e-05, 'epoch': 2.79}\n"
     ]
    },
    {
     "name": "stderr",
     "output_type": "stream",
     "text": [
      " 56%|█████▌    | 1230/2190 [1:12:42<54:04,  3.38s/it]"
     ]
    },
    {
     "name": "stdout",
     "output_type": "stream",
     "text": [
      "{'loss': 0.5352, 'grad_norm': 5.459068775177002, 'learning_rate': 2.8402366863905327e-05, 'epoch': 2.81}\n"
     ]
    },
    {
     "name": "stderr",
     "output_type": "stream",
     "text": [
      " 57%|█████▋    | 1240/2190 [1:13:15<53:02,  3.35s/it]"
     ]
    },
    {
     "name": "stdout",
     "output_type": "stream",
     "text": [
      "{'loss': 0.5778, 'grad_norm': 8.451417922973633, 'learning_rate': 2.8106508875739644e-05, 'epoch': 2.83}\n"
     ]
    },
    {
     "name": "stderr",
     "output_type": "stream",
     "text": [
      " 57%|█████▋    | 1250/2190 [1:13:49<52:29,  3.35s/it]"
     ]
    },
    {
     "name": "stdout",
     "output_type": "stream",
     "text": [
      "{'loss': 0.5482, 'grad_norm': 7.179009914398193, 'learning_rate': 2.7810650887573965e-05, 'epoch': 2.85}\n"
     ]
    },
    {
     "name": "stderr",
     "output_type": "stream",
     "text": [
      " 58%|█████▊    | 1260/2190 [1:14:22<52:03,  3.36s/it]"
     ]
    },
    {
     "name": "stdout",
     "output_type": "stream",
     "text": [
      "{'loss': 0.7605, 'grad_norm': 7.847592830657959, 'learning_rate': 2.751479289940829e-05, 'epoch': 2.88}\n"
     ]
    },
    {
     "name": "stderr",
     "output_type": "stream",
     "text": [
      " 58%|█████▊    | 1270/2190 [1:14:57<53:54,  3.52s/it]"
     ]
    },
    {
     "name": "stdout",
     "output_type": "stream",
     "text": [
      "{'loss': 0.6251, 'grad_norm': 8.687198638916016, 'learning_rate': 2.7218934911242606e-05, 'epoch': 2.9}\n"
     ]
    },
    {
     "name": "stderr",
     "output_type": "stream",
     "text": [
      " 58%|█████▊    | 1280/2190 [1:15:34<55:59,  3.69s/it]"
     ]
    },
    {
     "name": "stdout",
     "output_type": "stream",
     "text": [
      "{'loss': 0.64, 'grad_norm': 6.541096210479736, 'learning_rate': 2.6923076923076923e-05, 'epoch': 2.92}\n"
     ]
    },
    {
     "name": "stderr",
     "output_type": "stream",
     "text": [
      " 59%|█████▉    | 1290/2190 [1:16:10<55:00,  3.67s/it]"
     ]
    },
    {
     "name": "stdout",
     "output_type": "stream",
     "text": [
      "{'loss': 0.6937, 'grad_norm': 12.126916885375977, 'learning_rate': 2.6627218934911247e-05, 'epoch': 2.95}\n"
     ]
    },
    {
     "name": "stderr",
     "output_type": "stream",
     "text": [
      " 59%|█████▉    | 1300/2190 [1:16:47<55:14,  3.72s/it]"
     ]
    },
    {
     "name": "stdout",
     "output_type": "stream",
     "text": [
      "{'loss': 0.626, 'grad_norm': 9.368775367736816, 'learning_rate': 2.6331360946745565e-05, 'epoch': 2.97}\n"
     ]
    },
    {
     "name": "stderr",
     "output_type": "stream",
     "text": [
      " 60%|█████▉    | 1310/2190 [1:17:25<55:42,  3.80s/it]"
     ]
    },
    {
     "name": "stdout",
     "output_type": "stream",
     "text": [
      "{'loss': 0.5051, 'grad_norm': 1.9643062353134155, 'learning_rate': 2.6035502958579882e-05, 'epoch': 2.99}\n"
     ]
    },
    {
     "name": "stderr",
     "output_type": "stream",
     "text": [
      " 60%|██████    | 1320/2190 [1:18:02<56:33,  3.90s/it]"
     ]
    },
    {
     "name": "stdout",
     "output_type": "stream",
     "text": [
      "{'loss': 0.3686, 'grad_norm': 3.4582619667053223, 'learning_rate': 2.57396449704142e-05, 'epoch': 3.01}\n"
     ]
    },
    {
     "name": "stderr",
     "output_type": "stream",
     "text": [
      " 61%|██████    | 1330/2190 [1:18:43<58:40,  4.09s/it]"
     ]
    },
    {
     "name": "stdout",
     "output_type": "stream",
     "text": [
      "{'loss': 0.4666, 'grad_norm': 5.451417446136475, 'learning_rate': 2.5443786982248524e-05, 'epoch': 3.04}\n"
     ]
    },
    {
     "name": "stderr",
     "output_type": "stream",
     "text": [
      " 61%|██████    | 1340/2190 [1:19:24<58:22,  4.12s/it]"
     ]
    },
    {
     "name": "stdout",
     "output_type": "stream",
     "text": [
      "{'loss': 0.6135, 'grad_norm': 2.9939534664154053, 'learning_rate': 2.514792899408284e-05, 'epoch': 3.06}\n"
     ]
    },
    {
     "name": "stderr",
     "output_type": "stream",
     "text": [
      " 62%|██████▏   | 1350/2190 [1:20:04<54:45,  3.91s/it]"
     ]
    },
    {
     "name": "stdout",
     "output_type": "stream",
     "text": [
      "{'loss': 0.5252, 'grad_norm': 6.275343418121338, 'learning_rate': 2.485207100591716e-05, 'epoch': 3.08}\n"
     ]
    },
    {
     "name": "stderr",
     "output_type": "stream",
     "text": [
      " 62%|██████▏   | 1360/2190 [1:20:43<59:13,  4.28s/it]"
     ]
    },
    {
     "name": "stdout",
     "output_type": "stream",
     "text": [
      "{'loss': 0.438, 'grad_norm': 6.591732501983643, 'learning_rate': 2.4556213017751482e-05, 'epoch': 3.11}\n"
     ]
    },
    {
     "name": "stderr",
     "output_type": "stream",
     "text": [
      " 63%|██████▎   | 1370/2190 [1:21:20<49:26,  3.62s/it]"
     ]
    },
    {
     "name": "stdout",
     "output_type": "stream",
     "text": [
      "{'loss': 0.4196, 'grad_norm': 4.040642261505127, 'learning_rate': 2.42603550295858e-05, 'epoch': 3.13}\n"
     ]
    },
    {
     "name": "stderr",
     "output_type": "stream",
     "text": [
      " 63%|██████▎   | 1380/2190 [1:21:55<47:57,  3.55s/it]"
     ]
    },
    {
     "name": "stdout",
     "output_type": "stream",
     "text": [
      "{'loss': 0.4097, 'grad_norm': 3.945931911468506, 'learning_rate': 2.396449704142012e-05, 'epoch': 3.15}\n"
     ]
    },
    {
     "name": "stderr",
     "output_type": "stream",
     "text": [
      " 63%|██████▎   | 1390/2190 [1:22:31<47:44,  3.58s/it]"
     ]
    },
    {
     "name": "stdout",
     "output_type": "stream",
     "text": [
      "{'loss': 0.3327, 'grad_norm': 3.3828744888305664, 'learning_rate': 2.3668639053254438e-05, 'epoch': 3.17}\n"
     ]
    },
    {
     "name": "stderr",
     "output_type": "stream",
     "text": [
      " 64%|██████▍   | 1400/2190 [1:23:06<45:51,  3.48s/it]"
     ]
    },
    {
     "name": "stdout",
     "output_type": "stream",
     "text": [
      "{'loss': 0.3136, 'grad_norm': 3.9058923721313477, 'learning_rate': 2.337278106508876e-05, 'epoch': 3.2}\n"
     ]
    },
    {
     "name": "stderr",
     "output_type": "stream",
     "text": [
      " 64%|██████▍   | 1410/2190 [1:23:40<43:29,  3.34s/it]"
     ]
    },
    {
     "name": "stdout",
     "output_type": "stream",
     "text": [
      "{'loss': 0.3509, 'grad_norm': 5.740688323974609, 'learning_rate': 2.307692307692308e-05, 'epoch': 3.22}\n"
     ]
    },
    {
     "name": "stderr",
     "output_type": "stream",
     "text": [
      " 65%|██████▍   | 1420/2190 [1:24:14<42:17,  3.30s/it]"
     ]
    },
    {
     "name": "stdout",
     "output_type": "stream",
     "text": [
      "{'loss': 0.2939, 'grad_norm': 7.283759117126465, 'learning_rate': 2.2781065088757396e-05, 'epoch': 3.24}\n"
     ]
    },
    {
     "name": "stderr",
     "output_type": "stream",
     "text": [
      " 65%|██████▌   | 1430/2190 [1:24:45<37:30,  2.96s/it]"
     ]
    },
    {
     "name": "stdout",
     "output_type": "stream",
     "text": [
      "{'loss': 0.4173, 'grad_norm': 4.095457553863525, 'learning_rate': 2.2485207100591717e-05, 'epoch': 3.26}\n"
     ]
    },
    {
     "name": "stderr",
     "output_type": "stream",
     "text": [
      " 66%|██████▌   | 1440/2190 [1:25:15<35:44,  2.86s/it]"
     ]
    },
    {
     "name": "stdout",
     "output_type": "stream",
     "text": [
      "{'loss': 0.3797, 'grad_norm': 12.832647323608398, 'learning_rate': 2.2189349112426034e-05, 'epoch': 3.29}\n"
     ]
    },
    {
     "name": "stderr",
     "output_type": "stream",
     "text": [
      " 66%|██████▌   | 1450/2190 [1:25:45<35:42,  2.90s/it]"
     ]
    },
    {
     "name": "stdout",
     "output_type": "stream",
     "text": [
      "{'loss': 0.4689, 'grad_norm': 7.901532173156738, 'learning_rate': 2.189349112426036e-05, 'epoch': 3.31}\n"
     ]
    },
    {
     "name": "stderr",
     "output_type": "stream",
     "text": [
      " 67%|██████▋   | 1460/2190 [1:26:14<33:22,  2.74s/it]"
     ]
    },
    {
     "name": "stdout",
     "output_type": "stream",
     "text": [
      "{'loss': 0.3218, 'grad_norm': 6.411223888397217, 'learning_rate': 2.1597633136094676e-05, 'epoch': 3.33}\n"
     ]
    },
    {
     "name": "stderr",
     "output_type": "stream",
     "text": [
      " 67%|██████▋   | 1470/2190 [1:26:44<34:36,  2.88s/it]"
     ]
    },
    {
     "name": "stdout",
     "output_type": "stream",
     "text": [
      "{'loss': 0.6509, 'grad_norm': 5.344304084777832, 'learning_rate': 2.1301775147928997e-05, 'epoch': 3.36}\n"
     ]
    },
    {
     "name": "stderr",
     "output_type": "stream",
     "text": [
      " 68%|██████▊   | 1480/2190 [1:27:15<33:46,  2.85s/it]"
     ]
    },
    {
     "name": "stdout",
     "output_type": "stream",
     "text": [
      "{'loss': 0.4273, 'grad_norm': 4.5436506271362305, 'learning_rate': 2.1005917159763314e-05, 'epoch': 3.38}\n"
     ]
    },
    {
     "name": "stderr",
     "output_type": "stream",
     "text": [
      " 68%|██████▊   | 1490/2190 [1:27:45<33:45,  2.89s/it]"
     ]
    },
    {
     "name": "stdout",
     "output_type": "stream",
     "text": [
      "{'loss': 0.4364, 'grad_norm': 1.3856390714645386, 'learning_rate': 2.0710059171597635e-05, 'epoch': 3.4}\n"
     ]
    },
    {
     "name": "stderr",
     "output_type": "stream",
     "text": [
      " 68%|██████▊   | 1500/2190 [1:28:15<32:34,  2.83s/it]"
     ]
    },
    {
     "name": "stdout",
     "output_type": "stream",
     "text": [
      "{'loss': 0.5535, 'grad_norm': 5.305721282958984, 'learning_rate': 2.0414201183431952e-05, 'epoch': 3.42}\n"
     ]
    },
    {
     "name": "stderr",
     "output_type": "stream",
     "text": [
      " 69%|██████▉   | 1510/2190 [1:28:48<33:29,  2.96s/it]"
     ]
    },
    {
     "name": "stdout",
     "output_type": "stream",
     "text": [
      "{'loss': 0.4974, 'grad_norm': 5.9940080642700195, 'learning_rate': 2.0118343195266273e-05, 'epoch': 3.45}\n"
     ]
    },
    {
     "name": "stderr",
     "output_type": "stream",
     "text": [
      " 69%|██████▉   | 1520/2190 [1:29:19<33:34,  3.01s/it]"
     ]
    },
    {
     "name": "stdout",
     "output_type": "stream",
     "text": [
      "{'loss': 0.4702, 'grad_norm': 12.095901489257812, 'learning_rate': 1.9822485207100593e-05, 'epoch': 3.47}\n"
     ]
    },
    {
     "name": "stderr",
     "output_type": "stream",
     "text": [
      " 70%|██████▉   | 1530/2190 [1:29:50<33:16,  3.02s/it]"
     ]
    },
    {
     "name": "stdout",
     "output_type": "stream",
     "text": [
      "{'loss': 0.5046, 'grad_norm': 4.826239585876465, 'learning_rate': 1.952662721893491e-05, 'epoch': 3.49}\n"
     ]
    },
    {
     "name": "stderr",
     "output_type": "stream",
     "text": [
      " 70%|███████   | 1540/2190 [1:30:23<33:09,  3.06s/it]"
     ]
    },
    {
     "name": "stdout",
     "output_type": "stream",
     "text": [
      "{'loss': 0.4467, 'grad_norm': 10.358841896057129, 'learning_rate': 1.923076923076923e-05, 'epoch': 3.52}\n"
     ]
    },
    {
     "name": "stderr",
     "output_type": "stream",
     "text": [
      " 71%|███████   | 1550/2190 [1:30:55<33:23,  3.13s/it]"
     ]
    },
    {
     "name": "stdout",
     "output_type": "stream",
     "text": [
      "{'loss': 0.4122, 'grad_norm': 5.422405242919922, 'learning_rate': 1.8934911242603552e-05, 'epoch': 3.54}\n"
     ]
    },
    {
     "name": "stderr",
     "output_type": "stream",
     "text": [
      " 71%|███████   | 1560/2190 [1:31:28<33:12,  3.16s/it]"
     ]
    },
    {
     "name": "stdout",
     "output_type": "stream",
     "text": [
      "{'loss': 0.4652, 'grad_norm': 3.866072177886963, 'learning_rate': 1.8639053254437873e-05, 'epoch': 3.56}\n"
     ]
    },
    {
     "name": "stderr",
     "output_type": "stream",
     "text": [
      " 72%|███████▏  | 1570/2190 [1:32:01<32:08,  3.11s/it]"
     ]
    },
    {
     "name": "stdout",
     "output_type": "stream",
     "text": [
      "{'loss': 0.3415, 'grad_norm': 14.083311080932617, 'learning_rate': 1.834319526627219e-05, 'epoch': 3.58}\n"
     ]
    },
    {
     "name": "stderr",
     "output_type": "stream",
     "text": [
      " 72%|███████▏  | 1580/2190 [1:32:33<31:22,  3.09s/it]"
     ]
    },
    {
     "name": "stdout",
     "output_type": "stream",
     "text": [
      "{'loss': 0.471, 'grad_norm': 4.613370418548584, 'learning_rate': 1.804733727810651e-05, 'epoch': 3.61}\n"
     ]
    },
    {
     "name": "stderr",
     "output_type": "stream",
     "text": [
      " 73%|███████▎  | 1590/2190 [1:33:09<37:06,  3.71s/it]"
     ]
    },
    {
     "name": "stdout",
     "output_type": "stream",
     "text": [
      "{'loss': 0.369, 'grad_norm': 3.9389829635620117, 'learning_rate': 1.7751479289940828e-05, 'epoch': 3.63}\n"
     ]
    },
    {
     "name": "stderr",
     "output_type": "stream",
     "text": [
      " 73%|███████▎  | 1600/2190 [1:33:46<36:09,  3.68s/it]"
     ]
    },
    {
     "name": "stdout",
     "output_type": "stream",
     "text": [
      "{'loss': 0.4401, 'grad_norm': 6.143531799316406, 'learning_rate': 1.745562130177515e-05, 'epoch': 3.65}\n"
     ]
    },
    {
     "name": "stderr",
     "output_type": "stream",
     "text": [
      " 74%|███████▎  | 1610/2190 [1:34:22<34:48,  3.60s/it]"
     ]
    },
    {
     "name": "stdout",
     "output_type": "stream",
     "text": [
      "{'loss': 0.4548, 'grad_norm': 6.25358247756958, 'learning_rate': 1.7159763313609466e-05, 'epoch': 3.68}\n"
     ]
    },
    {
     "name": "stderr",
     "output_type": "stream",
     "text": [
      " 74%|███████▍  | 1620/2190 [1:34:59<34:29,  3.63s/it]"
     ]
    },
    {
     "name": "stdout",
     "output_type": "stream",
     "text": [
      "{'loss': 0.3332, 'grad_norm': 4.173594951629639, 'learning_rate': 1.6863905325443787e-05, 'epoch': 3.7}\n"
     ]
    },
    {
     "name": "stderr",
     "output_type": "stream",
     "text": [
      " 74%|███████▍  | 1630/2190 [1:35:36<34:07,  3.66s/it]"
     ]
    },
    {
     "name": "stdout",
     "output_type": "stream",
     "text": [
      "{'loss': 0.442, 'grad_norm': 0.8277238011360168, 'learning_rate': 1.6568047337278108e-05, 'epoch': 3.72}\n"
     ]
    },
    {
     "name": "stderr",
     "output_type": "stream",
     "text": [
      " 75%|███████▍  | 1640/2190 [1:36:13<33:33,  3.66s/it]"
     ]
    },
    {
     "name": "stdout",
     "output_type": "stream",
     "text": [
      "{'loss': 0.3608, 'grad_norm': 0.17595510184764862, 'learning_rate': 1.6272189349112425e-05, 'epoch': 3.74}\n"
     ]
    },
    {
     "name": "stderr",
     "output_type": "stream",
     "text": [
      " 75%|███████▌  | 1650/2190 [1:36:50<32:57,  3.66s/it]"
     ]
    },
    {
     "name": "stdout",
     "output_type": "stream",
     "text": [
      "{'loss': 0.51, 'grad_norm': 4.390772342681885, 'learning_rate': 1.5976331360946746e-05, 'epoch': 3.77}\n"
     ]
    },
    {
     "name": "stderr",
     "output_type": "stream",
     "text": [
      " 76%|███████▌  | 1660/2190 [1:37:26<31:44,  3.59s/it]"
     ]
    },
    {
     "name": "stdout",
     "output_type": "stream",
     "text": [
      "{'loss': 0.4623, 'grad_norm': 6.121642112731934, 'learning_rate': 1.5680473372781066e-05, 'epoch': 3.79}\n"
     ]
    },
    {
     "name": "stderr",
     "output_type": "stream",
     "text": [
      " 76%|███████▋  | 1670/2190 [1:37:58<26:15,  3.03s/it]"
     ]
    },
    {
     "name": "stdout",
     "output_type": "stream",
     "text": [
      "{'loss': 0.5084, 'grad_norm': 8.922042846679688, 'learning_rate': 1.5384615384615387e-05, 'epoch': 3.81}\n"
     ]
    },
    {
     "name": "stderr",
     "output_type": "stream",
     "text": [
      " 77%|███████▋  | 1680/2190 [1:38:34<29:33,  3.48s/it]"
     ]
    },
    {
     "name": "stdout",
     "output_type": "stream",
     "text": [
      "{'loss': 0.428, 'grad_norm': 4.481295585632324, 'learning_rate': 1.5088757396449705e-05, 'epoch': 3.84}\n"
     ]
    },
    {
     "name": "stderr",
     "output_type": "stream",
     "text": [
      " 77%|███████▋  | 1690/2190 [1:39:06<25:56,  3.11s/it]"
     ]
    },
    {
     "name": "stdout",
     "output_type": "stream",
     "text": [
      "{'loss': 0.3736, 'grad_norm': 5.269479751586914, 'learning_rate': 1.4792899408284025e-05, 'epoch': 3.86}\n"
     ]
    },
    {
     "name": "stderr",
     "output_type": "stream",
     "text": [
      " 78%|███████▊  | 1700/2190 [1:39:40<25:48,  3.16s/it]"
     ]
    },
    {
     "name": "stdout",
     "output_type": "stream",
     "text": [
      "{'loss': 0.3662, 'grad_norm': 7.264828681945801, 'learning_rate': 1.4497041420118343e-05, 'epoch': 3.88}\n"
     ]
    },
    {
     "name": "stderr",
     "output_type": "stream",
     "text": [
      " 78%|███████▊  | 1710/2190 [1:40:12<24:31,  3.06s/it]"
     ]
    },
    {
     "name": "stdout",
     "output_type": "stream",
     "text": [
      "{'loss': 0.492, 'grad_norm': 4.7761664390563965, 'learning_rate': 1.4201183431952663e-05, 'epoch': 3.9}\n"
     ]
    },
    {
     "name": "stderr",
     "output_type": "stream",
     "text": [
      " 79%|███████▊  | 1720/2190 [1:40:45<23:56,  3.06s/it]"
     ]
    },
    {
     "name": "stdout",
     "output_type": "stream",
     "text": [
      "{'loss': 0.2508, 'grad_norm': 5.565993309020996, 'learning_rate': 1.3905325443786982e-05, 'epoch': 3.93}\n"
     ]
    },
    {
     "name": "stderr",
     "output_type": "stream",
     "text": [
      " 79%|███████▉  | 1730/2190 [1:41:17<22:52,  2.98s/it]"
     ]
    },
    {
     "name": "stdout",
     "output_type": "stream",
     "text": [
      "{'loss': 0.3765, 'grad_norm': 6.55872917175293, 'learning_rate': 1.3609467455621303e-05, 'epoch': 3.95}\n"
     ]
    },
    {
     "name": "stderr",
     "output_type": "stream",
     "text": [
      " 79%|███████▉  | 1740/2190 [1:41:47<21:13,  2.83s/it]"
     ]
    },
    {
     "name": "stdout",
     "output_type": "stream",
     "text": [
      "{'loss': 0.5098, 'grad_norm': 8.71553897857666, 'learning_rate': 1.3313609467455624e-05, 'epoch': 3.97}\n"
     ]
    },
    {
     "name": "stderr",
     "output_type": "stream",
     "text": [
      " 80%|███████▉  | 1750/2190 [1:42:17<20:49,  2.84s/it]"
     ]
    },
    {
     "name": "stdout",
     "output_type": "stream",
     "text": [
      "{'loss': 0.3666, 'grad_norm': 8.993016242980957, 'learning_rate': 1.3017751479289941e-05, 'epoch': 4.0}\n"
     ]
    },
    {
     "name": "stderr",
     "output_type": "stream",
     "text": [
      " 80%|████████  | 1760/2190 [1:42:46<20:25,  2.85s/it]"
     ]
    },
    {
     "name": "stdout",
     "output_type": "stream",
     "text": [
      "{'loss': 0.4465, 'grad_norm': 7.797280311584473, 'learning_rate': 1.2721893491124262e-05, 'epoch': 4.02}\n"
     ]
    },
    {
     "name": "stderr",
     "output_type": "stream",
     "text": [
      " 81%|████████  | 1770/2190 [1:43:16<20:11,  2.89s/it]"
     ]
    },
    {
     "name": "stdout",
     "output_type": "stream",
     "text": [
      "{'loss': 0.2952, 'grad_norm': 6.249075412750244, 'learning_rate': 1.242603550295858e-05, 'epoch': 4.04}\n"
     ]
    },
    {
     "name": "stderr",
     "output_type": "stream",
     "text": [
      " 81%|████████▏ | 1780/2190 [1:43:46<19:35,  2.87s/it]"
     ]
    },
    {
     "name": "stdout",
     "output_type": "stream",
     "text": [
      "{'loss': 0.29, 'grad_norm': 6.680412769317627, 'learning_rate': 1.21301775147929e-05, 'epoch': 4.06}\n"
     ]
    },
    {
     "name": "stderr",
     "output_type": "stream",
     "text": [
      " 82%|████████▏ | 1790/2190 [1:44:17<19:07,  2.87s/it]"
     ]
    },
    {
     "name": "stdout",
     "output_type": "stream",
     "text": [
      "{'loss': 0.29, 'grad_norm': 1.9203859567642212, 'learning_rate': 1.1834319526627219e-05, 'epoch': 4.09}\n"
     ]
    },
    {
     "name": "stderr",
     "output_type": "stream",
     "text": [
      " 82%|████████▏ | 1800/2190 [1:44:47<18:38,  2.87s/it]"
     ]
    },
    {
     "name": "stdout",
     "output_type": "stream",
     "text": [
      "{'loss': 0.2775, 'grad_norm': 13.7618989944458, 'learning_rate': 1.153846153846154e-05, 'epoch': 4.11}\n"
     ]
    },
    {
     "name": "stderr",
     "output_type": "stream",
     "text": [
      " 83%|████████▎ | 1810/2190 [1:45:17<17:51,  2.82s/it]"
     ]
    },
    {
     "name": "stdout",
     "output_type": "stream",
     "text": [
      "{'loss': 0.2878, 'grad_norm': 9.000418663024902, 'learning_rate': 1.1242603550295859e-05, 'epoch': 4.13}\n"
     ]
    },
    {
     "name": "stderr",
     "output_type": "stream",
     "text": [
      " 83%|████████▎ | 1820/2190 [1:45:47<17:31,  2.84s/it]"
     ]
    },
    {
     "name": "stdout",
     "output_type": "stream",
     "text": [
      "{'loss': 0.3307, 'grad_norm': 10.171761512756348, 'learning_rate': 1.094674556213018e-05, 'epoch': 4.16}\n"
     ]
    },
    {
     "name": "stderr",
     "output_type": "stream",
     "text": [
      " 84%|████████▎ | 1830/2190 [1:46:16<16:49,  2.80s/it]"
     ]
    },
    {
     "name": "stdout",
     "output_type": "stream",
     "text": [
      "{'loss': 0.2631, 'grad_norm': 6.813810348510742, 'learning_rate': 1.0650887573964498e-05, 'epoch': 4.18}\n"
     ]
    },
    {
     "name": "stderr",
     "output_type": "stream",
     "text": [
      " 84%|████████▍ | 1840/2190 [1:46:46<16:35,  2.85s/it]"
     ]
    },
    {
     "name": "stdout",
     "output_type": "stream",
     "text": [
      "{'loss': 0.348, 'grad_norm': 8.997496604919434, 'learning_rate': 1.0355029585798817e-05, 'epoch': 4.2}\n"
     ]
    },
    {
     "name": "stderr",
     "output_type": "stream",
     "text": [
      " 84%|████████▍ | 1850/2190 [1:47:16<16:13,  2.86s/it]"
     ]
    },
    {
     "name": "stdout",
     "output_type": "stream",
     "text": [
      "{'loss': 0.2456, 'grad_norm': 4.228269577026367, 'learning_rate': 1.0059171597633136e-05, 'epoch': 4.22}\n"
     ]
    },
    {
     "name": "stderr",
     "output_type": "stream",
     "text": [
      " 85%|████████▍ | 1860/2190 [1:47:46<15:50,  2.88s/it]"
     ]
    },
    {
     "name": "stdout",
     "output_type": "stream",
     "text": [
      "{'loss': 0.1667, 'grad_norm': 3.4833695888519287, 'learning_rate': 9.763313609467455e-06, 'epoch': 4.25}\n"
     ]
    },
    {
     "name": "stderr",
     "output_type": "stream",
     "text": [
      " 85%|████████▌ | 1870/2190 [1:48:17<15:10,  2.84s/it]"
     ]
    },
    {
     "name": "stdout",
     "output_type": "stream",
     "text": [
      "{'loss': 0.2734, 'grad_norm': 7.369415760040283, 'learning_rate': 9.467455621301776e-06, 'epoch': 4.27}\n"
     ]
    },
    {
     "name": "stderr",
     "output_type": "stream",
     "text": [
      " 86%|████████▌ | 1880/2190 [1:48:47<14:50,  2.87s/it]"
     ]
    },
    {
     "name": "stdout",
     "output_type": "stream",
     "text": [
      "{'loss': 0.3292, 'grad_norm': 7.100587368011475, 'learning_rate': 9.171597633136095e-06, 'epoch': 4.29}\n"
     ]
    },
    {
     "name": "stderr",
     "output_type": "stream",
     "text": [
      " 86%|████████▋ | 1890/2190 [1:49:17<14:14,  2.85s/it]"
     ]
    },
    {
     "name": "stdout",
     "output_type": "stream",
     "text": [
      "{'loss': 0.2586, 'grad_norm': 4.894455432891846, 'learning_rate': 8.875739644970414e-06, 'epoch': 4.32}\n"
     ]
    },
    {
     "name": "stderr",
     "output_type": "stream",
     "text": [
      " 87%|████████▋ | 1900/2190 [1:49:47<13:56,  2.88s/it]"
     ]
    },
    {
     "name": "stdout",
     "output_type": "stream",
     "text": [
      "{'loss': 0.3222, 'grad_norm': 7.494937896728516, 'learning_rate': 8.579881656804733e-06, 'epoch': 4.34}\n"
     ]
    },
    {
     "name": "stderr",
     "output_type": "stream",
     "text": [
      " 87%|████████▋ | 1910/2190 [1:50:17<13:25,  2.88s/it]"
     ]
    },
    {
     "name": "stdout",
     "output_type": "stream",
     "text": [
      "{'loss': 0.3427, 'grad_norm': 7.033915996551514, 'learning_rate': 8.284023668639054e-06, 'epoch': 4.36}\n"
     ]
    },
    {
     "name": "stderr",
     "output_type": "stream",
     "text": [
      " 88%|████████▊ | 1920/2190 [1:50:48<13:00,  2.89s/it]"
     ]
    },
    {
     "name": "stdout",
     "output_type": "stream",
     "text": [
      "{'loss': 0.3259, 'grad_norm': 3.5757040977478027, 'learning_rate': 7.988165680473373e-06, 'epoch': 4.38}\n"
     ]
    },
    {
     "name": "stderr",
     "output_type": "stream",
     "text": [
      " 88%|████████▊ | 1930/2190 [1:51:18<12:23,  2.86s/it]"
     ]
    },
    {
     "name": "stdout",
     "output_type": "stream",
     "text": [
      "{'loss': 0.2829, 'grad_norm': 4.402753829956055, 'learning_rate': 7.692307692307694e-06, 'epoch': 4.41}\n"
     ]
    },
    {
     "name": "stderr",
     "output_type": "stream",
     "text": [
      " 89%|████████▊ | 1940/2190 [1:51:49<12:09,  2.92s/it]"
     ]
    },
    {
     "name": "stdout",
     "output_type": "stream",
     "text": [
      "{'loss': 0.2414, 'grad_norm': 4.319368839263916, 'learning_rate': 7.396449704142013e-06, 'epoch': 4.43}\n"
     ]
    },
    {
     "name": "stderr",
     "output_type": "stream",
     "text": [
      " 89%|████████▉ | 1950/2190 [1:52:19<11:29,  2.87s/it]"
     ]
    },
    {
     "name": "stdout",
     "output_type": "stream",
     "text": [
      "{'loss': 0.3206, 'grad_norm': 0.4814668297767639, 'learning_rate': 7.100591715976332e-06, 'epoch': 4.45}\n"
     ]
    },
    {
     "name": "stderr",
     "output_type": "stream",
     "text": [
      " 89%|████████▉ | 1960/2190 [1:52:49<11:00,  2.87s/it]"
     ]
    },
    {
     "name": "stdout",
     "output_type": "stream",
     "text": [
      "{'loss': 0.2653, 'grad_norm': 6.875311851501465, 'learning_rate': 6.8047337278106515e-06, 'epoch': 4.47}\n"
     ]
    },
    {
     "name": "stderr",
     "output_type": "stream",
     "text": [
      " 90%|████████▉ | 1970/2190 [1:53:19<10:30,  2.86s/it]"
     ]
    },
    {
     "name": "stdout",
     "output_type": "stream",
     "text": [
      "{'loss': 0.3201, 'grad_norm': 4.626812934875488, 'learning_rate': 6.5088757396449705e-06, 'epoch': 4.5}\n"
     ]
    },
    {
     "name": "stderr",
     "output_type": "stream",
     "text": [
      " 90%|█████████ | 1980/2190 [1:53:49<10:04,  2.88s/it]"
     ]
    },
    {
     "name": "stdout",
     "output_type": "stream",
     "text": [
      "{'loss': 0.2172, 'grad_norm': 1.7460507154464722, 'learning_rate': 6.21301775147929e-06, 'epoch': 4.52}\n"
     ]
    },
    {
     "name": "stderr",
     "output_type": "stream",
     "text": [
      " 91%|█████████ | 1990/2190 [1:54:20<09:37,  2.89s/it]"
     ]
    },
    {
     "name": "stdout",
     "output_type": "stream",
     "text": [
      "{'loss': 0.2618, 'grad_norm': 2.4548890590667725, 'learning_rate': 5.917159763313609e-06, 'epoch': 4.54}\n"
     ]
    },
    {
     "name": "stderr",
     "output_type": "stream",
     "text": [
      " 91%|█████████▏| 2000/2190 [1:54:49<08:57,  2.83s/it]"
     ]
    },
    {
     "name": "stdout",
     "output_type": "stream",
     "text": [
      "{'loss': 0.3163, 'grad_norm': 4.545291900634766, 'learning_rate': 5.621301775147929e-06, 'epoch': 4.57}\n"
     ]
    },
    {
     "name": "stderr",
     "output_type": "stream",
     "text": [
      " 92%|█████████▏| 2010/2190 [1:55:22<09:03,  3.02s/it]"
     ]
    },
    {
     "name": "stdout",
     "output_type": "stream",
     "text": [
      "{'loss': 0.1485, 'grad_norm': 1.4978290796279907, 'learning_rate': 5.325443786982249e-06, 'epoch': 4.59}\n"
     ]
    },
    {
     "name": "stderr",
     "output_type": "stream",
     "text": [
      " 92%|█████████▏| 2020/2190 [1:55:53<08:18,  2.93s/it]"
     ]
    },
    {
     "name": "stdout",
     "output_type": "stream",
     "text": [
      "{'loss': 0.3581, 'grad_norm': 3.3569467067718506, 'learning_rate': 5.029585798816568e-06, 'epoch': 4.61}\n"
     ]
    },
    {
     "name": "stderr",
     "output_type": "stream",
     "text": [
      " 93%|█████████▎| 2030/2190 [1:56:24<07:42,  2.89s/it]"
     ]
    },
    {
     "name": "stdout",
     "output_type": "stream",
     "text": [
      "{'loss': 0.2838, 'grad_norm': 7.54030179977417, 'learning_rate': 4.733727810650888e-06, 'epoch': 4.63}\n"
     ]
    },
    {
     "name": "stderr",
     "output_type": "stream",
     "text": [
      " 93%|█████████▎| 2040/2190 [1:56:55<07:36,  3.04s/it]"
     ]
    },
    {
     "name": "stdout",
     "output_type": "stream",
     "text": [
      "{'loss': 0.257, 'grad_norm': 4.266560077667236, 'learning_rate': 4.437869822485207e-06, 'epoch': 4.66}\n"
     ]
    },
    {
     "name": "stderr",
     "output_type": "stream",
     "text": [
      " 94%|█████████▎| 2050/2190 [1:57:27<07:03,  3.02s/it]"
     ]
    },
    {
     "name": "stdout",
     "output_type": "stream",
     "text": [
      "{'loss': 0.2532, 'grad_norm': 5.122368335723877, 'learning_rate': 4.142011834319527e-06, 'epoch': 4.68}\n"
     ]
    },
    {
     "name": "stderr",
     "output_type": "stream",
     "text": [
      " 94%|█████████▍| 2060/2190 [1:58:00<06:44,  3.11s/it]"
     ]
    },
    {
     "name": "stdout",
     "output_type": "stream",
     "text": [
      "{'loss': 0.2989, 'grad_norm': 8.578116416931152, 'learning_rate': 3.846153846153847e-06, 'epoch': 4.7}\n"
     ]
    },
    {
     "name": "stderr",
     "output_type": "stream",
     "text": [
      " 95%|█████████▍| 2070/2190 [1:58:32<06:05,  3.05s/it]"
     ]
    },
    {
     "name": "stdout",
     "output_type": "stream",
     "text": [
      "{'loss': 0.2245, 'grad_norm': 3.5286481380462646, 'learning_rate': 3.550295857988166e-06, 'epoch': 4.73}\n"
     ]
    },
    {
     "name": "stderr",
     "output_type": "stream",
     "text": [
      " 95%|█████████▍| 2080/2190 [1:59:04<05:36,  3.06s/it]"
     ]
    },
    {
     "name": "stdout",
     "output_type": "stream",
     "text": [
      "{'loss': 0.2888, 'grad_norm': 5.461737155914307, 'learning_rate': 3.2544378698224853e-06, 'epoch': 4.75}\n"
     ]
    },
    {
     "name": "stderr",
     "output_type": "stream",
     "text": [
      " 95%|█████████▌| 2090/2190 [1:59:35<05:01,  3.02s/it]"
     ]
    },
    {
     "name": "stdout",
     "output_type": "stream",
     "text": [
      "{'loss': 0.2663, 'grad_norm': 0.5850105881690979, 'learning_rate': 2.9585798816568047e-06, 'epoch': 4.77}\n"
     ]
    },
    {
     "name": "stderr",
     "output_type": "stream",
     "text": [
      " 96%|█████████▌| 2100/2190 [2:00:06<04:19,  2.88s/it]"
     ]
    },
    {
     "name": "stdout",
     "output_type": "stream",
     "text": [
      "{'loss': 0.2578, 'grad_norm': 4.676978588104248, 'learning_rate': 2.6627218934911246e-06, 'epoch': 4.79}\n"
     ]
    },
    {
     "name": "stderr",
     "output_type": "stream",
     "text": [
      " 96%|█████████▋| 2110/2190 [2:00:37<03:53,  2.92s/it]"
     ]
    },
    {
     "name": "stdout",
     "output_type": "stream",
     "text": [
      "{'loss': 0.1786, 'grad_norm': 2.183026075363159, 'learning_rate': 2.366863905325444e-06, 'epoch': 4.82}\n"
     ]
    },
    {
     "name": "stderr",
     "output_type": "stream",
     "text": [
      " 97%|█████████▋| 2120/2190 [2:01:05<03:08,  2.70s/it]"
     ]
    },
    {
     "name": "stdout",
     "output_type": "stream",
     "text": [
      "{'loss': 0.1847, 'grad_norm': 3.5251121520996094, 'learning_rate': 2.0710059171597635e-06, 'epoch': 4.84}\n"
     ]
    },
    {
     "name": "stderr",
     "output_type": "stream",
     "text": [
      " 97%|█████████▋| 2130/2190 [2:01:34<02:45,  2.76s/it]"
     ]
    },
    {
     "name": "stdout",
     "output_type": "stream",
     "text": [
      "{'loss': 0.2197, 'grad_norm': 1.1851991415023804, 'learning_rate': 1.775147928994083e-06, 'epoch': 4.86}\n"
     ]
    },
    {
     "name": "stderr",
     "output_type": "stream",
     "text": [
      " 98%|█████████▊| 2140/2190 [2:02:03<02:17,  2.74s/it]"
     ]
    },
    {
     "name": "stdout",
     "output_type": "stream",
     "text": [
      "{'loss': 0.364, 'grad_norm': 6.3610944747924805, 'learning_rate': 1.4792899408284024e-06, 'epoch': 4.89}\n"
     ]
    },
    {
     "name": "stderr",
     "output_type": "stream",
     "text": [
      " 98%|█████████▊| 2150/2190 [2:02:32<01:50,  2.76s/it]"
     ]
    },
    {
     "name": "stdout",
     "output_type": "stream",
     "text": [
      "{'loss': 0.3132, 'grad_norm': 6.163203716278076, 'learning_rate': 1.183431952662722e-06, 'epoch': 4.91}\n"
     ]
    },
    {
     "name": "stderr",
     "output_type": "stream",
     "text": [
      " 99%|█████████▊| 2160/2190 [2:03:02<01:25,  2.85s/it]"
     ]
    },
    {
     "name": "stdout",
     "output_type": "stream",
     "text": [
      "{'loss': 0.2008, 'grad_norm': 1.6459429264068604, 'learning_rate': 8.875739644970415e-07, 'epoch': 4.93}\n"
     ]
    },
    {
     "name": "stderr",
     "output_type": "stream",
     "text": [
      " 99%|█████████▉| 2170/2190 [2:03:31<00:54,  2.72s/it]"
     ]
    },
    {
     "name": "stdout",
     "output_type": "stream",
     "text": [
      "{'loss': 0.2869, 'grad_norm': 2.579622983932495, 'learning_rate': 5.91715976331361e-07, 'epoch': 4.95}\n"
     ]
    },
    {
     "name": "stderr",
     "output_type": "stream",
     "text": [
      "100%|█████████▉| 2180/2190 [2:04:01<00:28,  2.83s/it]"
     ]
    },
    {
     "name": "stdout",
     "output_type": "stream",
     "text": [
      "{'loss': 0.3272, 'grad_norm': 4.291162967681885, 'learning_rate': 2.958579881656805e-07, 'epoch': 4.98}\n"
     ]
    },
    {
     "name": "stderr",
     "output_type": "stream",
     "text": [
      "100%|██████████| 2190/2190 [2:04:29<00:00,  2.51s/it]"
     ]
    },
    {
     "name": "stdout",
     "output_type": "stream",
     "text": [
      "{'loss': 0.2391, 'grad_norm': 6.468105792999268, 'learning_rate': 0.0, 'epoch': 5.0}\n"
     ]
    },
    {
     "name": "stderr",
     "output_type": "stream",
     "text": [
      "100%|██████████| 2190/2190 [2:04:31<00:00,  3.41s/it]\n"
     ]
    },
    {
     "name": "stdout",
     "output_type": "stream",
     "text": [
      "{'train_runtime': 7471.5942, 'train_samples_per_second': 4.684, 'train_steps_per_second': 0.293, 'train_loss': 0.8548665542580766, 'epoch': 5.0}\n"
     ]
    },
    {
     "name": "stderr",
     "output_type": "stream",
     "text": [
      "100%|██████████| 47/47 [03:07<00:00,  3.99s/it]"
     ]
    },
    {
     "name": "stdout",
     "output_type": "stream",
     "text": [
      "Bert transformer accuracy: 0.7703333333333333\n"
     ]
    },
    {
     "name": "stderr",
     "output_type": "stream",
     "text": [
      "\n"
     ]
    }
   ],
   "source": [
    "%pip install transformer[torch] accelerate\n",
    "\n",
    "from torch.utils.data import Dataset\n",
    "from transformers import BertTokenizer, BertForSequenceClassification, TrainingArguments, Trainer\n",
    "\n",
    "tokenizer = BertTokenizer.from_pretrained('bert-base-uncased')\n",
    "transformer_model = BertForSequenceClassification.from_pretrained('bert-base-uncased', num_labels = 28)\n",
    "\n",
    "\n",
    "class EmotionDataset(Dataset):\n",
    "   def __init__(self, data, tokenizer, labels):\n",
    "       self.data = tokenizer(data.tolist(), truncation = True, padding = True, max_length = 64)\n",
    "       self.labels = labels.tolist()\n",
    "\n",
    "\n",
    "   def __len__(self):\n",
    "       return len(self.labels)\n",
    "  \n",
    "   def __getitem__(self, index):\n",
    "       items = {}\n",
    "       for key, val in self.data.items():\n",
    "           items[key] = torch.tensor(val[index])\n",
    "       items['labels'] = torch.tensor(self.labels[index])\n",
    "       return items\n",
    "\n",
    "\n",
    "train_dataset = EmotionDataset(X_train, tokenizer ,y_train)\n",
    "test_dataset = EmotionDataset(X_test, tokenizer ,y_test)\n",
    "\n",
    "\n",
    "training_param = TrainingArguments(output_dir = './output',\n",
    "                                  num_train_epochs = 5,\n",
    "                                  per_device_train_batch_size = 16,\n",
    "                                  per_device_eval_batch_size = 64,\n",
    "                                  warmup_steps = 500,\n",
    "                                  weight_decay = 0.05,\n",
    "                                  logging_dir = './logs',\n",
    "                                  logging_steps = 10\n",
    "                                  )\n",
    "\n",
    "\n",
    "trainer = Trainer(model = transformer_model,\n",
    "                 args = training_param,\n",
    "                 train_dataset = train_dataset)\n",
    "trainer.train()\n",
    "\n",
    "y_pred = trainer.predict(test_dataset)\n",
    "y_pred = y_pred.predictions.argmax(-1)\n",
    "accuracy = accuracy_score(y_test, y_pred)\n",
    "print(\"Bert transformer accuracy: \" + str(accuracy))\n"
   ]
  },
  {
   "cell_type": "markdown",
   "metadata": {},
   "source": [
    "<h2>Part 3: Kaggle Submission</h2><p>\n",
    "You need to generate a prediction CSV using the following cell from your trained model and submit the direct output of your code to Kaggle. The results should be presented in two columns in csv format: the first column is the data id (0-14999) and the second column includes the predictions for the test set. The first column must be named id and the second column must be named label (otherwise your submission will fail). A sample predication file can be downloaded from Kaggle for each problem. \n",
    "We provide how to save a csv file if you are running Notebook on Kaggle."
   ]
  },
  {
   "cell_type": "code",
   "execution_count": 19,
   "metadata": {},
   "outputs": [
    {
     "name": "stderr",
     "output_type": "stream",
     "text": [
      "100%|██████████| 235/235 [13:39<00:00,  3.49s/it]\n"
     ]
    }
   ],
   "source": [
    "# Generating prediction on test_text using trained Naive-Bayes model\n",
    "naive_preds = naive_bayes_model.predict(test_data)\n",
    "\n",
    "# Generating prediction on test_text using trained GridSearch SVM model\n",
    "svm_preds = svm_model.predict(test_data)\n",
    "\n",
    "# Generating prediction on test_text using trained Bert transformer\n",
    "test_dataset = EmotionDataset(data = test_text, tokenizer = tokenizer, labels = np.array([0] * len(test_text)))\n",
    "transformer_preds = (trainer.predict(test_dataset)).predictions.argmax(-1)\n",
    "\n",
    "\n",
    "# Creating submission.csv from selected model prediction\n",
    "submission = pd.DataFrame({'id': range(15000), 'label': transformer_preds})\n",
    "submission.to_csv('submission.csv', index=False)"
   ]
  }
 ],
 "metadata": {
  "kernelspec": {
   "display_name": "Python 3",
   "language": "python",
   "name": "python3"
  },
  "language_info": {
   "codemirror_mode": {
    "name": "ipython",
    "version": 3
   },
   "file_extension": ".py",
   "mimetype": "text/x-python",
   "name": "python",
   "nbconvert_exporter": "python",
   "pygments_lexer": "ipython3",
   "version": "3.9.12"
  }
 },
 "nbformat": 4,
 "nbformat_minor": 4
}
